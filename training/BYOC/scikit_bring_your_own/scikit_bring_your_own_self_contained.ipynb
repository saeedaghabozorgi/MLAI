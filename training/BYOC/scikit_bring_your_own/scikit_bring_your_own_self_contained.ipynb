{
 "cells": [
  {
   "cell_type": "markdown",
   "metadata": {},
   "source": [
    "<a id='building-your-own-algo-container'></a>\n",
    "\n",
    "# Building your own Scikit-Learn algorithm container for SageMaker Training\n",
    "\n",
    "With Amazon SageMaker, you can package your own algorithms that can then be trained and deployed in the SageMaker environment. This notebook will guide you through an example that shows you how to build a Docker container for SageMaker and use it for training.\n",
    "\n",
    "By packaging an algorithm in a container, you can bring almost any code to the Amazon SageMaker environment, regardless of programming language, environment, framework, or dependencies. \n",
    "\n",
    "_**Note:**_ SageMaker now includes a [pre-built Scikit-Learn container](https://github.com/awslabs/amazon-sagemaker-examples/blob/master/sagemaker-python-sdk/scikit_learn_iris/Scikit-learn%20Estimator%20Example%20With%20Batch%20Transform.ipynb).  We recommend the pre-built container be used for almost all cases requiring a Scikit-Learn algorithm.  However, this example remains relevant as an outline for bringing in other libraries to SageMaker as your own container.\n",
    "\n",
    "1. [Building your own algorithm container](#building-your-own-algo-container)\n",
    "  1. [When should I build my own algorithm container?](#when-should-i)\n",
    "  1. [Permissions](#permissions)\n",
    "  1. [The Example](#the-example)\n",
    "  1. [The Lab](#the-lab)\n",
    "1. [Part 1: Packaging and Uploading your Algorithm for use with Amazon SageMaker](#part1)\n",
    "    1. [An overview of Docker](#docker-overview)\n",
    "    1. [How Amazon SageMaker runs your Docker container](#how-sagemaker-runs-docker)\n",
    "    1. [The parts of the sample container](#parts-of-container)\n",
    "    1. [The Dockerfile](#the-dockerfile)\n",
    "    1. [Building and registering the container](#building-the-container)\n",
    "1. [Part 2: Using your Algorithm in Amazon SageMaker](#part2)\n",
    "  1. [Set up the environment](#set-up-environment)\n",
    "  1. [Create the session](#create-the-session)\n",
    "  1. [Upload the data for training](#upload-data-for-training)\n",
    "  1. [Create an estimator and fit the model](#create-and-fit-estimator)\n",
    "\n",
    "<a id='when-should-i'></a>\n",
    "\n",
    "## When should I build my own algorithm container?\n",
    "\n",
    "You may not need to create a container to bring your own code to Amazon SageMaker. When you are using a framework (such as Apache MXNet or TensorFlow) that has direct support in SageMaker, you can simply supply the Python code that implements your algorithm using the SDK entry points for that framework. This set of frameworks is continually expanding, so we recommend that you check the current list if your algorithm is written in a common machine learning environment.\n",
    "\n",
    "Even if there is direct SDK support for your environment or framework, you may find it more effective to build your own container. If the code that implements your algorithm is quite complex on its own or you need special additions to the framework, building your own container may be the right choice.\n",
    "\n",
    "If there isn't direct SDK support for your environment, don't worry. You'll see in this lab that building your own container is quite straightforward and can easily be automated.\n",
    "\n",
    "<a id='permissions'></a>\n",
    "\n",
    "## Permissions\n",
    "\n",
    "### Modifying your SageMaker role\n",
    "\n",
    "Running this notebook requires permissions in addition to the normal `SageMakerFullAccess` permissions. These additional permissions are required in order to allow SageMaker to:\n",
    "\n",
    "* Create new repositories in Amazon Elastic Container Registry (ECR), which is used to host Docker images in AWS\n",
    "* Create and build a new project in AWS CodeBuild (ie: to build our custom Docker image)\n",
    "\n",
    "The easiest way to add these permissions is simply to add the managed policies `AmazonEC2ContainerRegistryFullAccess` and `AWSCodeBuildAdminAccess` to the Execution Role that is associated with your SageMaker Studio user. There's no need to restart your notebook instance when you do this - the new permissions will be available immediately.\n",
    "\n",
    "To add these 2 required managed policies to your existing SageMaker Execution Role:\n",
    "\n",
    "* Open a new instance of the AWS Console in a separate browser tab/window\n",
    "* On the left-hand side, choose `Roles`\n",
    "* Search for your execution role (usually something like AmazonSageMaker-ExecutionRole-...)\n",
    "> You can run the next cell to find your execution role"
   ]
  },
  {
   "cell_type": "code",
   "execution_count": 6,
   "metadata": {},
   "outputs": [
    {
     "data": {
      "text/plain": [
       "'arn:aws:iam::079329190341:role/service-role/AmazonSageMaker-ExecutionRole-20190404T141667'"
      ]
     },
     "execution_count": 6,
     "metadata": {},
     "output_type": "execute_result"
    }
   ],
   "source": [
    "from sagemaker import get_execution_role\n",
    "role = get_execution_role()\n",
    "role"
   ]
  },
  {
   "cell_type": "markdown",
   "metadata": {},
   "source": [
    "* Click the correct role in the list, and choose `Attach Policies`\n",
    "* Search for the `AmazonEC2ContainerRegistryFullAccess` and `AWSCodeBuildAdminAccess` policies, placing a checkmark next to each\n",
    "* Click `Attach Policy`"
   ]
  },
  {
   "cell_type": "markdown",
   "metadata": {},
   "source": [
    "### Creating a CodeBuild role\n",
    "\n",
    "This lab uses AWS CodeBuild to automatically build our Docker container image, and then push the new image into ECR so that SageMaker can use the image for training. In order to leverage CodeBuild, you will first need to create a new service-linked role in your account called `codebuild__sagemaker_workshop_role`. The role will require the following inline policy:\n",
    "\n",
    "```json\n",
    "{\n",
    "    \"Version\": \"2012-10-17\",\n",
    "    \"Statement\": [\n",
    "        {\n",
    "            \"Sid\": \"CloudWatchLogsPolicy\",\n",
    "            \"Effect\": \"Allow\",\n",
    "            \"Action\": [\n",
    "                \"logs:CreateLogGroup\",\n",
    "                \"logs:CreateLogStream\",\n",
    "                \"logs:PutLogEvents\"\n",
    "            ],\n",
    "            \"Resource\": [\n",
    "                \"*\"\n",
    "            ]\n",
    "        },\n",
    "        {\n",
    "            \"Sid\": \"S3GetPutPolicy\",\n",
    "            \"Effect\": \"Allow\",\n",
    "            \"Action\": [\n",
    "                \"s3:GetObject\",\n",
    "                \"s3:GetObjectVersion\",\n",
    "                \"s3:PutObject\",\n",
    "                \"s3:GetBucketAcl\",\n",
    "                \"s3:GetBucketLocation\"\n",
    "            ],\n",
    "            \"Resource\": [\n",
    "                \"*\"\n",
    "            ]\n",
    "        },\n",
    "        {\n",
    "            \"Sid\": \"ECRPushPullPolicy\",\n",
    "            \"Effect\": \"Allow\",\n",
    "            \"Action\": [\n",
    "                \"ecr:GetAuthorizationToken\",\n",
    "                \"ecr:BatchCheckLayerAvailability\",\n",
    "                \"ecr:GetDownloadUrlForLayer\",\n",
    "                \"ecr:BatchGetImage\",\n",
    "                \"ecr:InitiateLayerUpload\",\n",
    "                \"ecr:UploadLayerPart\",\n",
    "                \"ecr:CompleteLayerUpload\",\n",
    "                \"ecr:PutImage\"\n",
    "            ],\n",
    "            \"Resource\": [\n",
    "                \"*\"\n",
    "            ]\n",
    "        }\n",
    "    ]\n",
    "}\n",
    "```\n",
    "\n",
    "To create the new service-linked role for CodeBuild:\n",
    "\n",
    "* Open a new instance of the AWS Console in a separate browser tab/window\n",
    "* On the left-hand side, choose `Policies`\n",
    "* Click `Create Policy`\n",
    "* Click the `JSON` tab at the top of the page\n",
    "* Copy the above JSON policy, and paste it into the JSON editor, overwriting the existing contents of the editor\n",
    "* Click `Review Policy`\n",
    "* In the `Name` field, enter `codebuild__sagemaker_workshop_policy` exactly as you see it here\n",
    "* Click `Create Policy`\n",
    "* On the left-hand side of the main IAM service screen, choose `Roles`\n",
    "* Click `Create Role`\n",
    "* At the top of the page, ensure that `AWS Service` is highlighted. Next, scroll to the bottom of the page and click on `CodeBuild`\n",
    "* Click the `Next: Permissions` button\n",
    "* Search for the `codebuild__sagemaker_workshop_policy` policy, and place a checkmark next to it. \n",
    "* Click `Next: Tags` then `Next: Review`\n",
    "* In the `Role name` field, enter `codebuild__sagemaker_workshop_role` exactly as you see it here\n",
    "* Click `Create role`\n",
    "\n"
   ]
  },
  {
   "cell_type": "markdown",
   "metadata": {},
   "source": [
    "### Allowing SageMaker to pass the CodeBuild service-linked role to CodeBuild\n",
    "\n",
    "Lastly, we need to adjust your SageMaker Execution Role so that SageMaker has permission to pass the appropriate CodeBuild role into CodeBuild when submitting CodeBuild jobs.\n",
    "\n",
    "Begin by running the following Jupyter cell to generate an inline policy that is specific to your account:"
   ]
  },
  {
   "cell_type": "code",
   "execution_count": 7,
   "metadata": {},
   "outputs": [
    {
     "data": {
      "text/markdown": [
       "#### Generated Inline Policy:"
      ],
      "text/plain": [
       "<IPython.core.display.Markdown object>"
      ]
     },
     "metadata": {},
     "output_type": "display_data"
    },
    {
     "data": {
      "text/markdown": [
       "```json\n",
       "{\n",
       "    \"Version\": \"2012-10-17\",\n",
       "    \"Statement\": [\n",
       "        {\n",
       "            \"Effect\": \"Allow\",\n",
       "            \"Action\": \"iam:passRole\",\n",
       "            \"Resource\": \"arn:aws:iam::079329190341:role/codebuild__sagemaker_workshop_role\"\n",
       "        }\n",
       "    ]\n",
       "}\n",
       "```"
      ],
      "text/plain": [
       "<IPython.core.display.Markdown object>"
      ]
     },
     "metadata": {},
     "output_type": "display_data"
    }
   ],
   "source": [
    "from IPython.display import display, Markdown\n",
    "import json\n",
    "import sagemaker\n",
    "\n",
    "sess = sagemaker.session.Session()\n",
    "account = sess.boto_session.client('sts').get_caller_identity()['Account']\n",
    "\n",
    "policy = {\n",
    "    \"Version\": \"2012-10-17\",\n",
    "    \"Statement\": [\n",
    "        {\n",
    "            \"Effect\": \"Allow\",\n",
    "            \"Action\": \"iam:passRole\",\n",
    "            \"Resource\": \"arn:aws:iam::\" + account + \":role/codebuild__sagemaker_workshop_role\"\n",
    "        }\n",
    "    ]\n",
    "}\n",
    "\n",
    "display(Markdown(\"#### Generated Inline Policy:\"))\n",
    "display(Markdown(\"```json\\n\" + json.dumps(policy, indent=4) + \"\\n```\"))\n"
   ]
  },
  {
   "cell_type": "markdown",
   "metadata": {},
   "source": [
    "Next, return to the IAM service console, and add the above generated policy to your existing SageMaker Execution Role as an 'inline policy':\n",
    "\n",
    "* Open a new instance of the AWS Console in a separate browser tab/window\n",
    "* On the left-hand side, choose `Roles`\n",
    "* Search for your execution role (usually something like AmazonSageMaker-ExecutionRole-...)\n",
    "* Click `Add Inline Policy` on the right-hand side\n",
    "* Click the `JSON` tab at the top of the screen\n",
    "* Paste your copied inline policy (from above) into the JSON editor, replacing all existing contents\n",
    "* Click `Review Policy`\n",
    "* In the `Name` field, type `sagemaker_workshop__codebuild_passrole`\n",
    "* Click `Create Policy`"
   ]
  },
  {
   "cell_type": "markdown",
   "metadata": {},
   "source": [
    "<br/>\n",
    "<br/>\n",
    "\n",
    "<a id='the-example'></a>\n",
    "\n",
    "## The Example\n",
    "\n",
    "Here, we'll show how to package a simple Python training script which showcases the random forest algorithm from the widely used Scikit-Learn machine learning package. The example is intentionally quite trivial since the point is to show the surrounding structure that you'll want to add to your own code so you can train and host it in Amazon SageMaker.\n",
    "\n",
    "<a id='the-lab'></a>\n",
    "\n",
    "## The Lab\n",
    "\n",
    "This Lab is divided into two parts: _Part1: building the container_ and _Part 2: using the container_."
   ]
  },
  {
   "cell_type": "markdown",
   "metadata": {},
   "source": [
    "<a id='part1'></a>\n",
    "\n",
    "# Part 1: Packaging and Uploading your Algorithm for use with Amazon SageMaker\n",
    "\n",
    "<a id='docker-overview'></a>\n",
    "\n",
    "### An overview of Docker\n",
    "\n",
    "For many data scientists, Docker containers are a new concept, but they are not difficult, as you'll see here. \n",
    "\n",
    "Docker provides a simple way to package arbitrary code into an _image_ that is totally self-contained. Once you have an image, you can use Docker to run a _container_ based on that image. Running a container is just like running a program on the machine except that the container creates a fully self-contained environment for the program to run. Containers are isolated from each other and from the host environment, so the way you set up your program is the way it runs, no matter where you run it.\n",
    "\n",
    "Docker is more powerful than environment managers like conda or virtualenv because (a) it is completely language independent and (b) it comprises your whole operating environment, including startup commands, environment variable, etc.\n",
    "\n",
    "In some ways, a Docker container is like a virtual machine, but it is much lighter weight. For example, a program running in a container can start in less than a second and many containers can run on the same physical machine or virtual machine instance.\n",
    "\n",
    "Docker uses a simple file called a `Dockerfile` to specify how the image is assembled. We'll see an example of that below. You can build your Docker images based on Docker images built by yourself or others, which can simplify things quite a bit.\n",
    "\n",
    "Docker has become very popular in the programming and devops communities for its flexibility and well-defined specification of the code to be run. It is the underpinning of many services built in the past few years, such as [Amazon ECS].\n",
    "\n",
    "Amazon SageMaker uses Docker to allow users to train and deploy arbitrary algorithms.\n",
    "\n",
    "In Amazon SageMaker, Docker containers are invoked in a certain way for training and a slightly different way for hosting (inference). The following sections outline how to build containers for the SageMaker environment.\n",
    "\n",
    "Some helpful links:\n",
    "\n",
    "* [Docker home page](http://www.docker.com)\n",
    "* [Getting started with Docker](https://docs.docker.com/get-started/)\n",
    "* [Dockerfile reference](https://docs.docker.com/engine/reference/builder/)\n",
    "* [`docker run` reference](https://docs.docker.com/engine/reference/run/)\n",
    "\n",
    "[Amazon ECS]: https://aws.amazon.com/ecs/\n",
    "\n",
    "<a id='how-sagemaker-runs-docker'></a>\n",
    "\n",
    "### How Amazon SageMaker runs your Docker container\n",
    "\n",
    "Amazon SageMaker runs your container with the argument `train`. How your container processes this argument depends on the container:\n",
    "\n",
    "* In the example here, we don't define an `ENTRYPOINT` in the Dockerfile so Docker will run the command `train` at training time. In this example, we define it as an executable Python script, but it could be any program that we want to start in that environment.\n",
    "* If you specify a program as an `ENTRYPOINT` in the Dockerfile, that program will be run at startup and its first argument will be `train`. \n",
    "\n",
    "#### Running your container during training\n",
    "\n",
    "When Amazon SageMaker runs training, your `train` script is run just like a regular Python program. A number of files are laid out for your use, under the `/opt/ml` directory on the SageMaker training instance:\n",
    "\n",
    "    /opt/ml\n",
    "    |-- input\n",
    "    |   |-- config\n",
    "    |   |   |-- hyperparameters.json\n",
    "    |   |   `-- resourceConfig.json\n",
    "    |   `-- data\n",
    "    |       `-- <channel_name>\n",
    "    |           `-- <input data>\n",
    "    |-- model\n",
    "    |   `-- <model files>\n",
    "    `-- output\n",
    "        `-- failure\n",
    "\n",
    "##### The input\n",
    "\n",
    "* `/opt/ml/input/config` contains information to control how your program runs. `hyperparameters.json` is a JSON-formatted dictionary of hyperparameter names to values. These values will always be strings, so you may need to convert them. `resourceConfig.json` is a JSON-formatted file that describes the network layout used for distributed training. Since scikit-learn doesn't support distributed training, we'll ignore it here.\n",
    "* `/opt/ml/input/data/<channel_name>/` (for File mode) contains the input data for that channel. The channels are created based on the call to CreateTrainingJob but it's generally important that channels match what the algorithm expects. The files for each channel will be copied from S3 to this directory, preserving the tree structure indicated by the S3 key structure. \n",
    "* `/opt/ml/input/data/<channel_name>_<epoch_number>` (for Pipe mode) is the pipe for a given epoch. Epochs start at zero and go up by one each time you read them. There is no limit to the number of epochs that you can run, but you must close each pipe before reading the next epoch.\n",
    "\n",
    "##### The output\n",
    "\n",
    "* `/opt/ml/model/` is the directory where you write the model that your algorithm generates. Your model can be in any format that you want. It can be a single file or a whole directory tree. SageMaker will package any files in this directory into a compressed tar archive file. This file will be available at the S3 location returned in the `DescribeTrainingJob` result.\n",
    "* `/opt/ml/output` is a directory where the algorithm can write a file `failure` that describes why the job failed. The contents of this file will be returned in the `FailureReason` field of the `DescribeTrainingJob` result. For jobs that succeed, there is no reason to write this file as it will be ignored.\n"
   ]
  },
  {
   "cell_type": "markdown",
   "metadata": {},
   "source": [
    "<a id='parts-of-container'></a>\n",
    "\n",
    "### The parts of the sample container\n",
    "\n",
    "Within the `container` directory of this Lab are all the components you need to package the sample algorithm for Amazon SageMaker:\n",
    "\n",
    "    .\n",
    "    |-- Dockerfile\n",
    "    |-- buildspec.yml\n",
    "    `-- random_forest\n",
    "        `-- train\n",
    "\n",
    "\n",
    "Let's discuss each of these in turn:\n",
    "\n",
    "* __`Dockerfile`__ describes how to build your Docker container image. More details below.\n",
    "* __`buildspec.yml`__ describes the build process that will be used by AWS CodeBuild in order to build our container image.\n",
    "* __`random_forest`__ is the directory which contains the files that will be installed in the container.\n",
    "* __`train`__ is the program that is invoked when the container is run for training. You will modify this program to implement your training algorithm."
   ]
  },
  {
   "cell_type": "markdown",
   "metadata": {},
   "source": [
    "<a id='the-dockerfile'></a>\n",
    "\n",
    "### The Dockerfile\n",
    "\n",
    "The Dockerfile describes the image that we want to build. You can think of it as describing the complete operating system installation of the system that you want to run. A running Docker container is quite a bit lighter than a full operating system, however, because it takes advantage of Linux on the host machine for the basic operations. \n",
    "\n",
    "For the Python science stack, we will start from a standard Ubuntu installation and run the normal tools to install the things needed by scikit-learn. Finally, we add the code that implements our specific algorithm to the container and set up the right environment to run under.\n",
    "\n",
    "Along the way, we clean up extra space. This makes the container smaller and faster to start.\n",
    "\n",
    "Let's look at the Dockerfile for the example:"
   ]
  },
  {
   "cell_type": "code",
   "execution_count": 8,
   "metadata": {},
   "outputs": [
    {
     "name": "stdout",
     "output_type": "stream",
     "text": [
      "/root/MLAI/BYOC/scikit_bring_your_own\n"
     ]
    }
   ],
   "source": [
    "!pwd"
   ]
  },
  {
   "cell_type": "code",
   "execution_count": 9,
   "metadata": {},
   "outputs": [
    {
     "name": "stdout",
     "output_type": "stream",
     "text": [
      "# Build an image that can do training and inference in SageMaker\n",
      "# This is a Python 2 image that uses the nginx, gunicorn, flask stack\n",
      "# for serving inferences in a stable way.\n",
      "\n",
      "FROM ubuntu:16.04\n",
      "\n",
      "MAINTAINER Amazon AI <sage-learner@amazon.com>\n",
      "\n",
      "\n",
      "RUN apt-get -y update && apt-get install -y --no-install-recommends \\\n",
      "         wget \\\n",
      "         python \\\n",
      "         nginx \\\n",
      "         ca-certificates \\\n",
      "    && rm -rf /var/lib/apt/lists/*\n",
      "\n",
      "# Here we get all python packages.\n",
      "# There's substantial overlap between scipy and numpy that we eliminate by\n",
      "# linking them together. Likewise, pip leaves the install caches populated which uses\n",
      "# a significant amount of space. These optimizations save a fair amount of space in the\n",
      "# image, which reduces start up time.\n",
      "RUN wget https://bootstrap.pypa.io/get-pip.py && python get-pip.py && \\\n",
      "    pip install numpy==1.16.2 scipy==1.2.1 scikit-learn==0.20.2 pandas flask gevent gunicorn && \\\n",
      "        (cd /usr/local/lib/python2.7/dist-packages/scipy/.libs; rm *; ln ../../numpy/.libs/* .) && \\\n",
      "        rm -rf /root/.cache\n",
      "\n",
      "# Set some environment variables. PYTHONUNBUFFERED keeps Python from buffering our standard\n",
      "# output stream, which means that logs can be delivered to the user quickly. PYTHONDONTWRITEBYTECODE\n",
      "# keeps Python from writing the .pyc files which are unnecessary in this case. We also update\n",
      "# PATH so that the train and serve programs are found when the container is invoked.\n",
      "\n",
      "ENV PYTHONUNBUFFERED=TRUE\n",
      "ENV PYTHONDONTWRITEBYTECODE=TRUE\n",
      "ENV PATH=\"/opt/program:${PATH}\"\n",
      "\n",
      "# Set up the program in the image\n",
      "COPY random_forest /opt/program\n",
      "WORKDIR /opt/program\n",
      "\n"
     ]
    }
   ],
   "source": [
    "!cat container/Dockerfile"
   ]
  },
  {
   "cell_type": "markdown",
   "metadata": {},
   "source": [
    "<a id='building-the-container'></a>\n",
    "\n",
    "### Building and registering the container\n",
    "\n",
    "There are multiple ways in which you can build a Docker container. If you have used Docker before, you might be familiar with the commands `docker build` and `docker push`, for example.\n",
    "\n",
    "In this lab, we are going to automate the building of our container image using [AWS CodeBuild](https://aws.amazon.com/codebuild/):\n",
    "\n",
    "    AWS CodeBuild is a fully managed continuous integration service that compiles source code, runs tests, and produces software packages that are ready to deploy. With CodeBuild, you don’t need to provision, manage, and scale your own build servers. CodeBuild scales continuously and processes multiple builds concurrently, so your builds are not left waiting in a queue. You can get started quickly by using prepackaged build environments, or you can create custom build environments that use your own build tools. With CodeBuild, you are charged by the minute for the compute resources you use.\n",
    "\n",
    "In order to leverage CodeBuild to build our Docker container image, we will make use of the provided `buildspec.yml` file that defines the various steps that will be executed during the build process. Let's take a look at the buildspec.yml file:"
   ]
  },
  {
   "cell_type": "code",
   "execution_count": 10,
   "metadata": {},
   "outputs": [
    {
     "name": "stdout",
     "output_type": "stream",
     "text": [
      "version: 0.2\n",
      "\n",
      "phases:\n",
      "  pre_build:\n",
      "    commands:\n",
      "      - echo Logging in to Amazon ECR...\n",
      "      - $(aws ecr get-login --no-include-email --region $AWS_DEFAULT_REGION)\n",
      "  build:\n",
      "    commands:\n",
      "      - echo Build started on `date`\n",
      "      - echo Building the Docker image...          \n",
      "      - docker build -t $ALGORITHM_NAME .\n",
      "      - docker tag $ALGORITHM_NAME $IMAGE_NAME      \n",
      "  post_build:\n",
      "    commands:\n",
      "      - echo Build completed on `date`\n",
      "      - echo Pushing the Docker image...\n",
      "      - docker push $IMAGE_NAME"
     ]
    }
   ],
   "source": [
    "!cat container/buildspec.yml"
   ]
  },
  {
   "cell_type": "markdown",
   "metadata": {},
   "source": [
    "<br/>\n",
    "\n",
    "In the above file, you see that we have defined 3 build phases:\n",
    "\n",
    "1. *pre_build*: this phase ensures that CodeBuild successfully logs into our ECR repository\n",
    "2. *build*: this phase is used to run the `docker build` command, which will build our container image according to our Dockerfile (see [above](#the-dockerfile))\n",
    "3. *post_build*: this phase is used to run the `docker push` command, which pushes our new image into our ECR repository\n",
    "\n",
    "<br/>\n",
    "\n",
    "Before we can run our CodeBuild job, we first need to make sure that we have an ECR respository in which we will store our Docker images.\n",
    "\n",
    "The following code looks for an ECR repository in the account you're using and the current default region. If the repository doesn't exist, the script will create it."
   ]
  },
  {
   "cell_type": "code",
   "execution_count": 11,
   "metadata": {},
   "outputs": [
    {
     "name": "stdout",
     "output_type": "stream",
     "text": [
      "{\n",
      "    \"repositories\": [\n",
      "        {\n",
      "            \"repositoryArn\": \"arn:aws:ecr:us-east-1:079329190341:repository/sagemaker-random-forest\",\n",
      "            \"registryId\": \"079329190341\",\n",
      "            \"repositoryName\": \"sagemaker-random-forest\",\n",
      "            \"repositoryUri\": \"079329190341.dkr.ecr.us-east-1.amazonaws.com/sagemaker-random-forest\",\n",
      "            \"createdAt\": 1590296178.0,\n",
      "            \"imageTagMutability\": \"MUTABLE\",\n",
      "            \"imageScanningConfiguration\": {\n",
      "                \"scanOnPush\": false\n",
      "            }\n",
      "        }\n",
      "    ]\n",
      "}\n"
     ]
    }
   ],
   "source": [
    "%%sh\n",
    "\n",
    "# The name of our algorithm\n",
    "algorithm_name=sagemaker-random-forest\n",
    "\n",
    "cd container\n",
    "\n",
    "chmod +x random_forest/train\n",
    "\n",
    "account=$(aws sts get-caller-identity --query Account --output text)\n",
    "\n",
    "# Get the region defined in the current configuration (default to us-west-2 if none defined)\n",
    "region=$(aws configure get region)\n",
    "region=${region:-us-west-2}\n",
    "\n",
    "fullname=\"${account}.dkr.ecr.${region}.amazonaws.com/${algorithm_name}:latest\"\n",
    "\n",
    "# If the repository doesn't exist in ECR, create it.\n",
    "aws ecr describe-repositories --repository-names \"${algorithm_name}\" > /dev/null 2>&1\n",
    "\n",
    "if [ $? -ne 0 ]\n",
    "then\n",
    "    aws ecr create-repository --repository-name \"${algorithm_name}\" > /dev/null\n",
    "fi\n",
    "\n",
    "aws ecr describe-repositories --repository-names \"${algorithm_name}\""
   ]
  },
  {
   "cell_type": "markdown",
   "metadata": {},
   "source": [
    "Next, we need to package up our Dockerfile and Scikit-Learn training script into a ZIP file, and store it in S3.\n",
    "\n",
    "CodeBuild will later download this ZIP file in order to build the container image that SageMaker will use for training."
   ]
  },
  {
   "cell_type": "code",
   "execution_count": 12,
   "metadata": {},
   "outputs": [
    {
     "name": "stdout",
     "output_type": "stream",
     "text": [
      "Attempting to install zip using apt-get:\n",
      "Reading package lists... Done\n",
      "Building dependency tree       \n",
      "Reading state information... Done\n",
      "The following additional packages will be installed:\n",
      "  unzip\n",
      "The following NEW packages will be installed:\n",
      "  unzip zip\n",
      "0 upgraded, 2 newly installed, 0 to remove and 14 not upgraded.\n",
      "Need to get 405 kB of archives.\n",
      "After this operation, 1202 kB of additional disk space will be used.\n",
      "Get:1 http://deb.debian.org/debian buster/main amd64 unzip amd64 6.0-23+deb10u1 [172 kB]\n",
      "Get:2 http://deb.debian.org/debian buster/main amd64 zip amd64 3.0-11+b1 [234 kB]\n",
      "Fetched 405 kB in 0s (7773 kB/s)\n",
      "debconf: delaying package configuration, since apt-utils is not installed\n",
      "Selecting previously unselected package unzip.\n",
      "(Reading database ... 16492 files and directories currently installed.)\n",
      "Preparing to unpack .../unzip_6.0-23+deb10u1_amd64.deb ...\n",
      "Unpacking unzip (6.0-23+deb10u1) ...\n",
      "Selecting previously unselected package zip.\n",
      "Preparing to unpack .../zip_3.0-11+b1_amd64.deb ...\n",
      "Unpacking zip (3.0-11+b1) ...\n",
      "Setting up unzip (6.0-23+deb10u1) ...\n",
      "Setting up zip (3.0-11+b1) ...\n",
      "Processing triggers for mime-support (3.62) ...\n",
      "\n",
      "Zipping contents of ./container/ into codebuild__random_forest.zip:\n",
      "  adding: Dockerfile (deflated 45%)\n",
      "  adding: buildspec.yml (deflated 52%)\n",
      "  adding: random_forest/ (stored 0%)\n",
      "  adding: random_forest/train (deflated 59%)\n",
      "\n",
      "-rw-r--r-- 1 root root 3.1K Jun 29 03:09 codebuild__random_forest.zip\n",
      "\n",
      "Uploading zip file to S3:\n",
      "upload: ./codebuild__random_forest.zip to s3://sagemaker-us-east-1-079329190341/codebuild_tmp/codebuild__random_forest.zip\n"
     ]
    }
   ],
   "source": [
    "import sagemaker\n",
    "\n",
    "sm_session = sagemaker.session.Session()\n",
    "s3_root = sm_session.default_bucket() + \"/codebuild_tmp/\"\n",
    "\n",
    "# install zip, as it is sometimes missing\n",
    "print(\"Attempting to install zip using apt-get:\")\n",
    "!apt-get install -y zip\n",
    "print()\n",
    "\n",
    "# zip the contents of the 'container' directory into \"codebuild__random_forest.zip\"\n",
    "print(\"Zipping contents of ./container/ into codebuild__random_forest.zip:\")\n",
    "!cd container; zip -r ../codebuild__random_forest.zip *; cd ..; echo; ls -alh *.zip  \n",
    "print()\n",
    "\n",
    "# copy codebuild__random_forest.zip to a temporary S3 location which we'll need when submitting our CodeBuild job\n",
    "print(\"Uploading zip file to S3:\")\n",
    "!aws s3 cp ./codebuild__random_forest.zip s3://{s3_root}"
   ]
  },
  {
   "cell_type": "markdown",
   "metadata": {},
   "source": [
    "<br/>\n",
    "<br/>\n",
    "\n",
    "Now that we have uploaded our training script and Dockerfile to S3, the next step is to define a CodeBuild project. Remember, we'll be using a CodeBuild project to automate the Docker build process.\n",
    "\n",
    "The following code block will generate a JSON file describing our new CodeBuild project:"
   ]
  },
  {
   "cell_type": "code",
   "execution_count": 13,
   "metadata": {},
   "outputs": [],
   "source": [
    "import json\n",
    "import boto3\n",
    "boto3_session = boto3.session.Session()\n",
    "\n",
    "algorithm_name = \"sagemaker-random-forest\"\n",
    "project_name = algorithm_name + \"_01\"\n",
    "region = boto3_session.region_name\n",
    "account = boto3.client('sts').get_caller_identity().get('Account')\n",
    "codebuild_role = \"arn:aws:iam::\" + account + \":role/codebuild__sagemaker_workshop_role\"\n",
    "\n",
    "# Below we define our JSON template that will be passed into the \"aws codebuild create-project ...\" CLI command.\n",
    "# This template defines the overall CodeBuild Project, as well as our custom environment variables that control the build process\n",
    "# NOTE: You do not need to change anything below.\n",
    "\n",
    "json_template = {\n",
    "  \"name\": project_name,\n",
    "  \"source\": {\n",
    "    \"type\": \"S3\",\n",
    "    \"location\": s3_root + \"codebuild__random_forest.zip\"\n",
    "  },\n",
    "  \"artifacts\": {\n",
    "    \"type\": \"NO_ARTIFACTS\"\n",
    "  },\n",
    "  \"environment\": {\n",
    "    \"type\": \"LINUX_CONTAINER\",\n",
    "    \"image\": \"aws/codebuild/standard:4.0\",\n",
    "    \"computeType\": \"BUILD_GENERAL1_SMALL\",\n",
    "    \"environmentVariables\": [\n",
    "      {\n",
    "        \"name\": \"AWS_DEFAULT_REGION\",\n",
    "        \"value\": region\n",
    "      },\n",
    "      {\n",
    "          \"name\": \"ALGORITHM_NAME\",\n",
    "          \"value\": algorithm_name\n",
    "      },\n",
    "        {\n",
    "            \"name\": \"IMAGE_NAME\",\n",
    "            \"value\": account + \".dkr.ecr.\" + region + \".amazonaws.com/\" + algorithm_name + \":latest\"\n",
    "        }\n",
    "    ],\n",
    "    \"privilegedMode\": True\n",
    "  },\n",
    "  \"serviceRole\": codebuild_role\n",
    "}\n",
    "\n",
    "\n",
    "# Output the JSON file to 'codebuild_create_project.json' in the notebook directory\n",
    "with open(\"codebuild_create_project.json\", \"w\") as f:\n",
    "    f.write(json.dumps(json_template))"
   ]
  },
  {
   "cell_type": "markdown",
   "metadata": {},
   "source": [
    "<br/>\n",
    "\n",
    "Next, let's check the contents of our newly created JSON tempate file:"
   ]
  },
  {
   "cell_type": "code",
   "execution_count": 14,
   "metadata": {},
   "outputs": [
    {
     "data": {
      "text/markdown": [
       "```json\n",
       "{\n",
       "    \"name\": \"sagemaker-random-forest_01\",\n",
       "    \"source\": {\n",
       "        \"type\": \"S3\",\n",
       "        \"location\": \"sagemaker-us-east-1-079329190341/codebuild_tmp/codebuild__random_forest.zip\"\n",
       "    },\n",
       "    \"artifacts\": {\n",
       "        \"type\": \"NO_ARTIFACTS\"\n",
       "    },\n",
       "    \"environment\": {\n",
       "        \"type\": \"LINUX_CONTAINER\",\n",
       "        \"image\": \"aws/codebuild/standard:4.0\",\n",
       "        \"computeType\": \"BUILD_GENERAL1_SMALL\",\n",
       "        \"environmentVariables\": [\n",
       "            {\n",
       "                \"name\": \"AWS_DEFAULT_REGION\",\n",
       "                \"value\": \"us-east-1\"\n",
       "            },\n",
       "            {\n",
       "                \"name\": \"ALGORITHM_NAME\",\n",
       "                \"value\": \"sagemaker-random-forest\"\n",
       "            },\n",
       "            {\n",
       "                \"name\": \"IMAGE_NAME\",\n",
       "                \"value\": \"079329190341.dkr.ecr.us-east-1.amazonaws.com/sagemaker-random-forest:latest\"\n",
       "            }\n",
       "        ],\n",
       "        \"privilegedMode\": true\n",
       "    },\n",
       "    \"serviceRole\": \"arn:aws:iam::079329190341:role/codebuild__sagemaker_workshop_role\"\n",
       "}\n",
       "```"
      ],
      "text/plain": [
       "<IPython.core.display.Markdown object>"
      ]
     },
     "metadata": {},
     "output_type": "display_data"
    }
   ],
   "source": [
    "import json\n",
    "\n",
    "with open(\"codebuild_create_project.json\") as f:\n",
    "    tmp = json.load(f)\n",
    "    display(Markdown(\"```json\\n\" + json.dumps(tmp, indent=4) + \"\\n```\"))"
   ]
  },
  {
   "cell_type": "markdown",
   "metadata": {},
   "source": [
    "<br/>\n",
    "\n",
    "Next, we use the AWS CLI to create a new CodeBuild Project, referencing our JSON template file:"
   ]
  },
  {
   "cell_type": "code",
   "execution_count": null,
   "metadata": {},
   "outputs": [],
   "source": [
    "!aws codebuild create-project --cli-input-json file://codebuild_create_project.json"
   ]
  },
  {
   "cell_type": "markdown",
   "metadata": {},
   "source": [
    "<br/>\n",
    "<br/>\n",
    "\n",
    "With our CodeBuild Project in place, we now use the AWS CLI to initiate a build job:"
   ]
  },
  {
   "cell_type": "code",
   "execution_count": null,
   "metadata": {},
   "outputs": [],
   "source": [
    "# This will build the Docker container image defined by our Dockerfile and push the image into ECR\n",
    "!aws codebuild start-build --project-name=sagemaker-random-forest_01"
   ]
  },
  {
   "cell_type": "markdown",
   "metadata": {},
   "source": [
    "<br/>\n",
    "\n",
    "Now that you have started the CodeBuild build process, it is a good idea to monitor the progress of your build job.\n",
    "\n",
    "When you run the following cell, it will create links for the CodeBuild and ECR consoles:"
   ]
  },
  {
   "cell_type": "code",
   "execution_count": null,
   "metadata": {},
   "outputs": [],
   "source": [
    "link1 = \"* [CodeBuild](https://{region}.console.aws.amazon.com/codesuite/codebuild/599069043765/projects/sagemaker-random-forest_01/)\".format(region=region)\n",
    "link2 = \"* [ECR](https://{region}.console.aws.amazon.com/ecr/repositories/sagemaker-random-forest/)\".format(region=region)\n",
    "links = link1 + \"\\n\" + link2\n",
    "\n",
    "display(Markdown(\"#### Generated Links:\\n\" + links))"
   ]
  },
  {
   "cell_type": "markdown",
   "metadata": {},
   "source": [
    "Begin by clicking the `CodeBuild` link above. Within the CodeBuild console, you will see a description of your ongoing build job, along with the associated build status. Monitor your ongoing build job (try clicking the first link under 'Build run' to view the log files). When your container image has been created, the 'Latest Build Status' column will show as `Succeeded`.\n",
    "\n",
    "Once the Codebuild job is complete, click the `ECR` link above. If your CodeBuild job was successful in pushing your new image into ECR, you will see a new image with the image tag `latest`. Under the `Pushed at` column for this image, you should see that this image was pushed very recently.\n",
    "\n",
    "If for some reason you do not see your new image within ECR, please double-check that your Codebuild job was successful, and repeat the [Building and registering the container](#building-the-container) section as required.\n",
    "\n",
    "<br/>\n",
    "<br/>"
   ]
  },
  {
   "cell_type": "markdown",
   "metadata": {},
   "source": [
    "<a id='part2'></a>\n",
    "\n",
    "# Part 2: Using your Algorithm in Amazon SageMaker\n",
    "\n",
    "Once you have your container packaged, you can use it to train models and use the model for hosting or batch transforms.\n",
    "\n",
    "Let's use our new container in a SageMaker training job.\n",
    "\n",
    "<a id='set-up-environment'></a>\n",
    "\n",
    "## Set up the environment\n",
    "\n",
    "Here we specify a bucket to use and the role that will be used for working with SageMaker."
   ]
  },
  {
   "cell_type": "code",
   "execution_count": 15,
   "metadata": {},
   "outputs": [],
   "source": [
    "# S3 prefix\n",
    "prefix = 'DEMO-scikit-byoc-houseprices'\n",
    "\n",
    "# Define IAM role\n",
    "import boto3\n",
    "import re\n",
    "\n",
    "import os\n",
    "import numpy as np\n",
    "import pandas as pd\n",
    "from sagemaker import get_execution_role\n",
    "\n",
    "role = get_execution_role()"
   ]
  },
  {
   "cell_type": "markdown",
   "metadata": {},
   "source": [
    "<a id='create-the-session'></a>\n",
    "\n",
    "## Create the session\n",
    "\n",
    "The session remembers our connection parameters to SageMaker. We'll use it to perform all of our SageMaker operations."
   ]
  },
  {
   "cell_type": "code",
   "execution_count": 16,
   "metadata": {},
   "outputs": [],
   "source": [
    "import sagemaker as sage\n",
    "from time import gmtime, strftime\n",
    "\n",
    "sess = sage.Session()"
   ]
  },
  {
   "cell_type": "markdown",
   "metadata": {},
   "source": [
    "<a id='upload-data-for-training'></a>\n",
    "\n",
    "## Upload the data for training\n",
    "\n",
    "When training large models with huge amounts of data, you'll typically use big data tools, like Amazon Athena, AWS Glue, or Amazon EMR, to create your data in S3. For the purposes of this example, we're using the Boston Housing dataset, present in Scikit-Learn: https://scikit-learn.org/stable/datasets/index.html#boston-dataset\n",
    "\n",
    "\n",
    "We can use the tools provided by the SageMaker Python SDK to upload the data to a default bucket. "
   ]
  },
  {
   "cell_type": "code",
   "execution_count": 17,
   "metadata": {},
   "outputs": [],
   "source": [
    "from sklearn.model_selection import train_test_split\n",
    "from sklearn.datasets import load_boston"
   ]
  },
  {
   "cell_type": "code",
   "execution_count": 18,
   "metadata": {},
   "outputs": [],
   "source": [
    "# we use the Boston housing dataset \n",
    "data = load_boston()"
   ]
  },
  {
   "cell_type": "code",
   "execution_count": 19,
   "metadata": {},
   "outputs": [],
   "source": [
    "X_train, X_test, y_train, y_test = train_test_split(\n",
    "    data.data, data.target, test_size=0.25, random_state=42)\n",
    "\n",
    "trainX = pd.DataFrame(X_train, columns=data.feature_names)\n",
    "trainX['target'] = y_train\n",
    "\n",
    "testX = pd.DataFrame(X_test, columns=data.feature_names)\n",
    "testX['target'] = y_test"
   ]
  },
  {
   "cell_type": "code",
   "execution_count": 20,
   "metadata": {},
   "outputs": [
    {
     "data": {
      "text/html": [
       "<div>\n",
       "<style scoped>\n",
       "    .dataframe tbody tr th:only-of-type {\n",
       "        vertical-align: middle;\n",
       "    }\n",
       "\n",
       "    .dataframe tbody tr th {\n",
       "        vertical-align: top;\n",
       "    }\n",
       "\n",
       "    .dataframe thead th {\n",
       "        text-align: right;\n",
       "    }\n",
       "</style>\n",
       "<table border=\"1\" class=\"dataframe\">\n",
       "  <thead>\n",
       "    <tr style=\"text-align: right;\">\n",
       "      <th></th>\n",
       "      <th>CRIM</th>\n",
       "      <th>ZN</th>\n",
       "      <th>INDUS</th>\n",
       "      <th>CHAS</th>\n",
       "      <th>NOX</th>\n",
       "      <th>RM</th>\n",
       "      <th>AGE</th>\n",
       "      <th>DIS</th>\n",
       "      <th>RAD</th>\n",
       "      <th>TAX</th>\n",
       "      <th>PTRATIO</th>\n",
       "      <th>B</th>\n",
       "      <th>LSTAT</th>\n",
       "      <th>target</th>\n",
       "    </tr>\n",
       "  </thead>\n",
       "  <tbody>\n",
       "    <tr>\n",
       "      <th>0</th>\n",
       "      <td>0.09103</td>\n",
       "      <td>0.0</td>\n",
       "      <td>2.46</td>\n",
       "      <td>0.0</td>\n",
       "      <td>0.4880</td>\n",
       "      <td>7.155</td>\n",
       "      <td>92.2</td>\n",
       "      <td>2.7006</td>\n",
       "      <td>3.0</td>\n",
       "      <td>193.0</td>\n",
       "      <td>17.8</td>\n",
       "      <td>394.12</td>\n",
       "      <td>4.82</td>\n",
       "      <td>37.9</td>\n",
       "    </tr>\n",
       "    <tr>\n",
       "      <th>1</th>\n",
       "      <td>3.53501</td>\n",
       "      <td>0.0</td>\n",
       "      <td>19.58</td>\n",
       "      <td>1.0</td>\n",
       "      <td>0.8710</td>\n",
       "      <td>6.152</td>\n",
       "      <td>82.6</td>\n",
       "      <td>1.7455</td>\n",
       "      <td>5.0</td>\n",
       "      <td>403.0</td>\n",
       "      <td>14.7</td>\n",
       "      <td>88.01</td>\n",
       "      <td>15.02</td>\n",
       "      <td>15.6</td>\n",
       "    </tr>\n",
       "    <tr>\n",
       "      <th>2</th>\n",
       "      <td>0.03578</td>\n",
       "      <td>20.0</td>\n",
       "      <td>3.33</td>\n",
       "      <td>0.0</td>\n",
       "      <td>0.4429</td>\n",
       "      <td>7.820</td>\n",
       "      <td>64.5</td>\n",
       "      <td>4.6947</td>\n",
       "      <td>5.0</td>\n",
       "      <td>216.0</td>\n",
       "      <td>14.9</td>\n",
       "      <td>387.31</td>\n",
       "      <td>3.76</td>\n",
       "      <td>45.4</td>\n",
       "    </tr>\n",
       "    <tr>\n",
       "      <th>3</th>\n",
       "      <td>0.38735</td>\n",
       "      <td>0.0</td>\n",
       "      <td>25.65</td>\n",
       "      <td>0.0</td>\n",
       "      <td>0.5810</td>\n",
       "      <td>5.613</td>\n",
       "      <td>95.6</td>\n",
       "      <td>1.7572</td>\n",
       "      <td>2.0</td>\n",
       "      <td>188.0</td>\n",
       "      <td>19.1</td>\n",
       "      <td>359.29</td>\n",
       "      <td>27.26</td>\n",
       "      <td>15.7</td>\n",
       "    </tr>\n",
       "    <tr>\n",
       "      <th>4</th>\n",
       "      <td>0.06724</td>\n",
       "      <td>0.0</td>\n",
       "      <td>3.24</td>\n",
       "      <td>0.0</td>\n",
       "      <td>0.4600</td>\n",
       "      <td>6.333</td>\n",
       "      <td>17.2</td>\n",
       "      <td>5.2146</td>\n",
       "      <td>4.0</td>\n",
       "      <td>430.0</td>\n",
       "      <td>16.9</td>\n",
       "      <td>375.21</td>\n",
       "      <td>7.34</td>\n",
       "      <td>22.6</td>\n",
       "    </tr>\n",
       "  </tbody>\n",
       "</table>\n",
       "</div>"
      ],
      "text/plain": [
       "      CRIM    ZN  INDUS  CHAS     NOX     RM   AGE     DIS  RAD    TAX  \\\n",
       "0  0.09103   0.0   2.46   0.0  0.4880  7.155  92.2  2.7006  3.0  193.0   \n",
       "1  3.53501   0.0  19.58   1.0  0.8710  6.152  82.6  1.7455  5.0  403.0   \n",
       "2  0.03578  20.0   3.33   0.0  0.4429  7.820  64.5  4.6947  5.0  216.0   \n",
       "3  0.38735   0.0  25.65   0.0  0.5810  5.613  95.6  1.7572  2.0  188.0   \n",
       "4  0.06724   0.0   3.24   0.0  0.4600  6.333  17.2  5.2146  4.0  430.0   \n",
       "\n",
       "   PTRATIO       B  LSTAT  target  \n",
       "0     17.8  394.12   4.82    37.9  \n",
       "1     14.7   88.01  15.02    15.6  \n",
       "2     14.9  387.31   3.76    45.4  \n",
       "3     19.1  359.29  27.26    15.7  \n",
       "4     16.9  375.21   7.34    22.6  "
      ]
     },
     "execution_count": 20,
     "metadata": {},
     "output_type": "execute_result"
    }
   ],
   "source": [
    "trainX.head()"
   ]
  },
  {
   "cell_type": "code",
   "execution_count": 21,
   "metadata": {},
   "outputs": [],
   "source": [
    "import os\n",
    "\n",
    "# create the 'data' folder, if it doesn't exist\n",
    "if not os.path.exists(\"data\"):\n",
    "    os.mkdir(\"data\")\n",
    "\n",
    "# save our train/test sets as CSV files within the 'data' folder    \n",
    "trainX.to_csv('data/boston_train.csv')\n",
    "testX.to_csv('data/boston_test.csv')"
   ]
  },
  {
   "cell_type": "code",
   "execution_count": 22,
   "metadata": {},
   "outputs": [
    {
     "name": "stderr",
     "output_type": "stream",
     "text": [
      "'upload_data' method will be deprecated in favor of 'S3Uploader' class (https://sagemaker.readthedocs.io/en/stable/s3.html#sagemaker.s3.S3Uploader) in SageMaker Python SDK v2.\n"
     ]
    }
   ],
   "source": [
    "WORK_DIRECTORY = 'data'\n",
    "\n",
    "# upload the train/test sets to S3\n",
    "data_location = sess.upload_data(WORK_DIRECTORY, key_prefix=prefix)"
   ]
  },
  {
   "cell_type": "markdown",
   "metadata": {},
   "source": [
    "<a id='create-and-fit-estimator'></a>\n",
    "\n",
    "## Create an estimator and fit the model\n",
    "\n",
    "In order to use SageMaker to fit our algorithm, we'll create an `Estimator` that defines how to use the container to train. This includes the configuration we need to invoke SageMaker training:\n",
    "\n",
    "* The __container name__. This is constructed as in the shell commands above.\n",
    "* The __role__. As defined above.\n",
    "* The __instance count__ which is the number of machines to use for training.\n",
    "* The __instance type__ which is the type of machine to use for training.\n",
    "* The __output path__ determines where the model artifact will be written.\n",
    "* The __session__ is the SageMaker session object that we defined above.\n",
    "\n",
    "Then we use fit() on the estimator to train against the data that we uploaded above."
   ]
  },
  {
   "cell_type": "code",
   "execution_count": 23,
   "metadata": {},
   "outputs": [
    {
     "name": "stderr",
     "output_type": "stream",
     "text": [
      "WARNING:root:Parameter image_name will be renamed to image_uri in SageMaker Python SDK v2.\n",
      "WARNING:sagemaker:'s3_input' class will be renamed to 'TrainingInput' in SageMaker Python SDK v2.\n"
     ]
    },
    {
     "name": "stdout",
     "output_type": "stream",
     "text": [
      "2020-06-29 04:19:58 Starting - Starting the training job...\n",
      "2020-06-29 04:20:01 Starting - Launching requested ML instances......\n",
      "2020-06-29 04:21:23 Starting - Preparing the instances for training...\n",
      "2020-06-29 04:21:58 Downloading - Downloading input data\n",
      "2020-06-29 04:21:58 Training - Downloading the training image...\n",
      "2020-06-29 04:22:26 Uploading - Uploading generated training model\u001b[34mStarting the training.\u001b[0m\n",
      "\u001b[34mreading data\u001b[0m\n",
      "\u001b[34mbuilding training and testing datasets\u001b[0m\n",
      "\u001b[34mtraining model\u001b[0m\n",
      "\u001b[34mvalidating model\u001b[0m\n",
      "\u001b[34mAE-at-10th-percentile: 0.20342857142857299\u001b[0m\n",
      "\u001b[34mAE-at-50th-percentile: 0.8844065934065917\u001b[0m\n",
      "\u001b[34mAE-at-90th-percentile: 3.072488888888888\u001b[0m\n",
      "\u001b[34mmodel persisted at /opt/ml/model/model.joblib\u001b[0m\n",
      "\n",
      "2020-06-29 04:22:32 Completed - Training job completed\n",
      "Training seconds: 40\n",
      "Billable seconds: 40\n"
     ]
    }
   ],
   "source": [
    "account = sess.boto_session.client('sts').get_caller_identity()['Account']\n",
    "region = sess.boto_session.region_name\n",
    "image = '{}.dkr.ecr.{}.amazonaws.com/sagemaker-random-forest:latest'.format(account, region)\n",
    "hyperparameters = {'n-estimators': 100,\n",
    "                       'min-samples-leaf': 3,\n",
    "                       'features': 'CRIM ZN INDUS CHAS NOX RM AGE DIS RAD TAX PTRATIO B LSTAT',\n",
    "                       'target': 'target'}\n",
    "\n",
    "tree = sage.estimator.Estimator(image,\n",
    "                       role, 1, 'ml.c5.xlarge',\n",
    "                       output_path=\"s3://{}/output\".format(sess.default_bucket()),\n",
    "                       hyperparameters=hyperparameters)\n",
    "\n",
    "tree.fit(data_location)"
   ]
  },
  {
   "cell_type": "markdown",
   "metadata": {},
   "source": [
    "<br/>\n",
    "<br/>\n",
    "\n",
    "Lastly, let's see where our model artifacts were stored in S3:"
   ]
  },
  {
   "cell_type": "code",
   "execution_count": null,
   "metadata": {},
   "outputs": [],
   "source": [
    "tree.model_data"
   ]
  },
  {
   "cell_type": "code",
   "execution_count": null,
   "metadata": {},
   "outputs": [],
   "source": []
  }
 ],
 "metadata": {
  "instance_type": "ml.t3.medium",
  "kernelspec": {
   "display_name": "Python 3 (Data Science)",
   "language": "python",
   "name": "python3__SAGEMAKER_INTERNAL__arn:aws:sagemaker:us-east-1:081325390199:image/datascience-1.0"
  },
  "language_info": {
   "codemirror_mode": {
    "name": "ipython",
    "version": 3
   },
   "file_extension": ".py",
   "mimetype": "text/x-python",
   "name": "python",
   "nbconvert_exporter": "python",
   "pygments_lexer": "ipython3",
   "version": "3.7.6"
  }
 },
 "nbformat": 4,
 "nbformat_minor": 4
}
