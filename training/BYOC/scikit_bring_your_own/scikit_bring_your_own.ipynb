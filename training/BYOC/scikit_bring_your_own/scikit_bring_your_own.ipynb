{
 "cells": [
  {
   "cell_type": "markdown",
   "metadata": {},
   "source": [
    "<a id='building-your-own-algo-container'></a>\n",
    "\n",
    "# Building your own Scikit-Learn algorithm container for SageMaker Training\n",
    "\n",
    "With Amazon SageMaker, you can package your own algorithms that can then be trained and deployed in the SageMaker environment. This notebook will guide you through an example that shows you how to build a Docker container for SageMaker and use it for training.\n",
    "\n",
    "By packaging an algorithm in a container, you can bring almost any code to the Amazon SageMaker environment, regardless of programming language, environment, framework, or dependencies. \n",
    "\n",
    "_**Note:**_ SageMaker now includes a [pre-built Scikit-Learn container](https://github.com/awslabs/amazon-sagemaker-examples/blob/master/sagemaker-python-sdk/scikit_learn_iris/Scikit-learn%20Estimator%20Example%20With%20Batch%20Transform.ipynb).  We recommend the pre-built container be used for almost all cases requiring a Scikit-Learn algorithm.  However, this example remains relevant as an outline for bringing in other libraries to SageMaker as your own container.\n",
    "\n",
    "1. [Building your own algorithm container](#building-your-own-algo-container)\n",
    "  1. [When should I build my own algorithm container?](#when-should-i)\n",
    "  1. [The Example](#the-example)\n",
    "  1. [The Lab](#the-lab)\n",
    "1. [Part 1: Packaging and Uploading your Algorithm for use with Amazon SageMaker](#part1)\n",
    "    1. [An overview of Docker](#docker-overview)\n",
    "    1. [How Amazon SageMaker runs your Docker container](#how-sagemaker-runs-docker)\n",
    "    1. [The parts of the sample container](#parts-of-container)\n",
    "    1. [The Dockerfile](#the-dockerfile)\n",
    "    1. [Building and registering the container](#building-the-container)\n",
    "1. [Part 2: Using your Algorithm in Amazon SageMaker](#part2)\n",
    "  1. [Set up the environment](#set-up-environment)\n",
    "  1. [Create the session](#create-the-session)\n",
    "  1. [Upload the data for training](#upload-data-for-training)\n",
    "  1. [Create an estimator and fit the model](#create-and-fit-estimator)\n",
    "\n",
    "<a id='when-should-i'></a>\n",
    "\n",
    "## When should I build my own algorithm container?\n",
    "\n",
    "You may not need to create a container to bring your own code to Amazon SageMaker. When you are using a framework (such as Apache MXNet or TensorFlow) that has direct support in SageMaker, you can simply supply the Python code that implements your algorithm using the SDK entry points for that framework. This set of frameworks is continually expanding, so we recommend that you check the current list if your algorithm is written in a common machine learning environment.\n",
    "\n",
    "Even if there is direct SDK support for your environment or framework, you may find it more effective to build your own container. If the code that implements your algorithm is quite complex on its own or you need special additions to the framework, building your own container may be the right choice.\n",
    "\n",
    "If there isn't direct SDK support for your environment, don't worry. You'll see in this lab that building your own container is quite straightforward and can easily be automated.\n",
    "\n"
   ]
  },
  {
   "cell_type": "markdown",
   "metadata": {},
   "source": [
    "<br/>\n",
    "<br/>\n",
    "\n",
    "<a id='the-example'></a>\n",
    "\n",
    "## The Example\n",
    "\n",
    "Here, we'll show how we have packaged a simple Python training script which showcases the random forest algorithm from the widely used Scikit-Learn machine learning package. The example is intentionally quite trivial since the point is to show the surrounding structure that you'll want to add to your own code so you can train and host it in Amazon SageMaker.\n",
    "\n",
    "<a id='the-lab'></a>\n",
    "\n",
    "## The Lab\n",
    "\n",
    "This Lab is divided into two parts: _Part1: building the container_ and _Part 2: using the container_."
   ]
  },
  {
   "cell_type": "markdown",
   "metadata": {},
   "source": [
    "<a id='part1'></a>\n",
    "\n",
    "# Part 1: Packaging and Uploading your Algorithm for use with Amazon SageMaker\n",
    "\n",
    "<a id='docker-overview'></a>\n",
    "\n",
    "### An overview of Docker\n",
    "\n",
    "For many data scientists, Docker containers are a new concept, but they are not difficult, as you'll see here. \n",
    "\n",
    "Docker provides a simple way to package arbitrary code into an _image_ that is totally self-contained. Once you have an image, you can use Docker to run a _container_ based on that image. Running a container is just like running a program on the machine except that the container creates a fully self-contained environment for the program to run. Containers are isolated from each other and from the host environment, so the way you set up your program is the way it runs, no matter where you run it.\n",
    "\n",
    "Docker is more powerful than environment managers like conda or virtualenv because (a) it is completely language independent and (b) it comprises your whole operating environment, including startup commands, environment variable, etc.\n",
    "\n",
    "In some ways, a Docker container is like a virtual machine, but it is much lighter weight. For example, a program running in a container can start in less than a second and many containers can run on the same physical machine or virtual machine instance.\n",
    "\n",
    "Docker uses a simple file called a `Dockerfile` to specify how the image is assembled. We'll see an example of that below. You can build your Docker images based on Docker images built by yourself or others, which can simplify things quite a bit.\n",
    "\n",
    "Docker has become very popular in the programming and devops communities for its flexibility and well-defined specification of the code to be run. It is the underpinning of many services built in the past few years, such as [Amazon ECS].\n",
    "\n",
    "Amazon SageMaker uses Docker to allow users to train and deploy arbitrary algorithms.\n",
    "\n",
    "In Amazon SageMaker, Docker containers are invoked in a certain way for training and a slightly different way for hosting (inference). The following sections outline how to build containers for the SageMaker environment.\n",
    "\n",
    "Some helpful links:\n",
    "\n",
    "* [Docker home page](http://www.docker.com)\n",
    "* [Getting started with Docker](https://docs.docker.com/get-started/)\n",
    "* [Dockerfile reference](https://docs.docker.com/engine/reference/builder/)\n",
    "* [`docker run` reference](https://docs.docker.com/engine/reference/run/)\n",
    "\n",
    "[Amazon ECS]: https://aws.amazon.com/ecs/\n",
    "\n",
    "<a id='how-sagemaker-runs-docker'></a>\n",
    "\n",
    "### How Amazon SageMaker runs your Docker container\n",
    "\n",
    "Amazon SageMaker runs your container with the argument `train`. How your container processes this argument depends on the container:\n",
    "\n",
    "* In the example here, we don't define an `ENTRYPOINT` in the Dockerfile so Docker will run the command `train` at training time. In this example, we define it as an executable Python script, but it could be any program that we want to start in that environment.\n",
    "* If you specify a program as an `ENTRYPOINT` in the Dockerfile, that program will be run at startup and its first argument will be `train`. \n",
    "\n",
    "#### Running your container during training\n",
    "\n",
    "When Amazon SageMaker runs training, your `train` script is run just like a regular Python program. A number of files are laid out for your use, under the `/opt/ml` directory on the SageMaker training instance:\n",
    "\n",
    "    /opt/ml\n",
    "    |-- input\n",
    "    |   |-- config\n",
    "    |   |   |-- hyperparameters.json\n",
    "    |   |   `-- resourceConfig.json\n",
    "    |   `-- data\n",
    "    |       `-- <channel_name>\n",
    "    |           `-- <input data>\n",
    "    |-- model\n",
    "    |   `-- <model files>\n",
    "    `-- output\n",
    "        `-- failure\n",
    "\n",
    "##### The input\n",
    "\n",
    "* `/opt/ml/input/config` contains information to control how your program runs. `hyperparameters.json` is a JSON-formatted dictionary of hyperparameter names to values. These values will always be strings, so you may need to convert them. `resourceConfig.json` is a JSON-formatted file that describes the network layout used for distributed training. Since scikit-learn doesn't support distributed training, we'll ignore it here.\n",
    "* `/opt/ml/input/data/<channel_name>/` (for File mode) contains the input data for that channel. The channels are created based on the call to CreateTrainingJob but it's generally important that channels match what the algorithm expects. The files for each channel will be copied from S3 to this directory, preserving the tree structure indicated by the S3 key structure. \n",
    "* `/opt/ml/input/data/<channel_name>_<epoch_number>` (for Pipe mode) is the pipe for a given epoch. Epochs start at zero and go up by one each time you read them. There is no limit to the number of epochs that you can run, but you must close each pipe before reading the next epoch.\n",
    "\n",
    "##### The output\n",
    "\n",
    "* `/opt/ml/model/` is the directory where you write the model that your algorithm generates. Your model can be in any format that you want. It can be a single file or a whole directory tree. SageMaker will package any files in this directory into a compressed tar archive file. This file will be available at the S3 location returned in the `DescribeTrainingJob` result.\n",
    "* `/opt/ml/output` is a directory where the algorithm can write a file `failure` that describes why the job failed. The contents of this file will be returned in the `FailureReason` field of the `DescribeTrainingJob` result. For jobs that succeed, there is no reason to write this file as it will be ignored.\n"
   ]
  },
  {
   "cell_type": "markdown",
   "metadata": {},
   "source": [
    "<a id='parts-of-container'></a>\n",
    "\n",
    "### The parts of the sample container\n",
    "\n",
    "Within the `container` directory of this Lab are all the components you need to package the sample algorithm for Amazon SageMaker:\n",
    "\n",
    "    .\n",
    "    |-- Dockerfile\n",
    "    |-- buildspec.yml\n",
    "    `-- random_forest\n",
    "        `-- train\n",
    "\n",
    "\n",
    "Let's discuss each of these in turn:\n",
    "\n",
    "* __`Dockerfile`__ describes how to build your Docker container image. More details below.\n",
    "* __`buildspec.yml`__ describes the build process that will be used by AWS CodeBuild in order to build our container image.\n",
    "* __`random_forest`__ is the directory which contains the files that will be installed in the container.\n",
    "* __`train`__ is the program that is invoked when the container is run for training. You will modify this program to implement your training algorithm."
   ]
  },
  {
   "cell_type": "markdown",
   "metadata": {},
   "source": [
    "<a id='the-dockerfile'></a>\n",
    "\n",
    "### The Dockerfile\n",
    "\n",
    "The Dockerfile describes the image that we want to build. You can think of it as describing the complete operating system installation of the system that you want to run. A running Docker container is quite a bit lighter than a full operating system, however, because it takes advantage of Linux on the host machine for the basic operations. \n",
    "\n",
    "For the Python science stack, we will start from a standard Ubuntu installation and run the normal tools to install the things needed by scikit-learn. Finally, we add the code that implements our specific algorithm to the container and set up the right environment to run under.\n",
    "\n",
    "Along the way, we clean up extra space. This makes the container smaller and faster to start.\n",
    "\n",
    "Let's look at the Dockerfile for the example:"
   ]
  },
  {
   "cell_type": "code",
   "execution_count": null,
   "metadata": {},
   "outputs": [],
   "source": [
    "!cat container/Dockerfile"
   ]
  },
  {
   "cell_type": "markdown",
   "metadata": {},
   "source": [
    "<a id='building-the-container'></a>\n",
    "\n",
    "### Building and registering the container\n",
    "\n",
    "There are multiple ways in which you can build a Docker container. If you have used Docker before, you might be familiar with the commands `docker build` and `docker push`, for example.\n",
    "\n",
    "In this lab, we are going to automate the building of our container image using [AWS CodeBuild](https://aws.amazon.com/codebuild/):\n",
    "\n",
    "    AWS CodeBuild is a fully managed continuous integration service that compiles source code, runs tests, and produces software packages that are ready to deploy. With CodeBuild, you don’t need to provision, manage, and scale your own build servers. CodeBuild scales continuously and processes multiple builds concurrently, so your builds are not left waiting in a queue. You can get started quickly by using prepackaged build environments, or you can create custom build environments that use your own build tools. With CodeBuild, you are charged by the minute for the compute resources you use.\n",
    "\n",
    "In order to leverage CodeBuild to build our Docker container image, we will make use of the provided `buildspec.yml` file that defines the various steps that will be executed during the build process. Let's take a look at the buildspec.yml file:"
   ]
  },
  {
   "cell_type": "code",
   "execution_count": null,
   "metadata": {},
   "outputs": [],
   "source": [
    "!cat container/buildspec.yml"
   ]
  },
  {
   "cell_type": "markdown",
   "metadata": {},
   "source": [
    "<br/>\n",
    "\n",
    "In the above file, you see that we have defined 3 build phases:\n",
    "\n",
    "1. *pre_build*: this phase ensures that CodeBuild successfully logs into our ECR repository\n",
    "2. *build*: this phase is used to run the `docker build` command, which will build our container image according to our Dockerfile (see [above](#the-dockerfile))\n",
    "3. *post_build*: this phase is used to run the `docker push` command, which pushes our new image into our ECR repository\n",
    "\n",
    "<br/>\n"
   ]
  },
  {
   "cell_type": "markdown",
   "metadata": {},
   "source": [
    "We will build and push the Docker Image in following steps:\n",
    "\n",
    "1. we need to package up our Dockerfile and Scikit-Learn training script into a ZIP file, and store it in S3. CodeBuild will later download this ZIP file in order to build the container image that SageMaker will use for training."
   ]
  },
  {
   "cell_type": "code",
   "execution_count": 32,
   "metadata": {},
   "outputs": [
    {
     "name": "stdout",
     "output_type": "stream",
     "text": [
      "Attempting to install zip using apt-get:\n",
      "Reading package lists... Done\n",
      "Building dependency tree       \n",
      "Reading state information... Done\n",
      "zip is already the newest version (3.0-11+b1).\n",
      "0 upgraded, 0 newly installed, 0 to remove and 14 not upgraded.\n",
      "\n",
      "Zipping contents of ./container/ into codebuild__random_forest.zip:\n",
      "updating: Dockerfile (deflated 45%)\n",
      "updating: buildspec.yml (deflated 52%)\n",
      "updating: random_forest/ (stored 0%)\n",
      "updating: random_forest/train (deflated 59%)\n",
      "\n",
      "-rw-r--r-- 1 root root 3.1K Jun 30 15:27 codebuild__random_forest.zip\n",
      "\n",
      "Uploading zip file to S3:\n",
      "upload: ./codebuild__random_forest.zip to s3://sagemaker-us-east-1-079329190341/codebuild_tmp/codebuild__random_forest.zip\n"
     ]
    }
   ],
   "source": [
    "import sagemaker\n",
    "\n",
    "sm_session = sagemaker.session.Session()\n",
    "s3_root = sm_session.default_bucket() + \"/codebuild_tmp/\"\n",
    "\n",
    "# install zip, as it is sometimes missing\n",
    "print(\"Attempting to install zip using apt-get:\")\n",
    "!apt-get install -y zip\n",
    "print()\n",
    "\n",
    "# zip the contents of the 'container' directory into \"codebuild__random_forest.zip\"\n",
    "print(\"Zipping contents of ./container/ into codebuild__random_forest.zip:\")\n",
    "!cd container; zip -r ../codebuild__random_forest.zip *; cd ..; echo; ls -alh *.zip  \n",
    "print()\n",
    "\n",
    "# copy codebuild__random_forest.zip to a temporary S3 location which we'll need when submitting our CodeBuild job\n",
    "print(\"Uploading zip file to S3:\")\n",
    "!aws s3 cp ./codebuild__random_forest.zip s3://{s3_root}"
   ]
  },
  {
   "cell_type": "markdown",
   "metadata": {},
   "source": [
    "2. Before we can run our CodeBuild job, we first need to make sure that we have an ECR respository in which we will store our Docker images.\n",
    "    * Browse to the AWS Consol, search for ECR, click on `Create repository`, and enter `sagemaker-random-forest` as the name of the repository. Take note of the full repositoy name as you will need it in the next sections.\n",
    "3. Now that we have uploaded our training script and Dockerfile to S3, the next step is to define a CodeBuild project. Remember, we'll be using a CodeBuild project to automate the Docker build process. Browse to AWS CodeBuild, and follow the instrcuction:\n",
    "    - Click on `Create build project`, and set the parameters:\n",
    "    ```\n",
    "    Project Name: SM_BuildWorkshopContainer\n",
    "    Source provider: Amazon S3\n",
    "    Repository: s3://<BUCKET_NAME>/<PREFIX>/codebuild__random_forest.zip\n",
    "    Environment type: Linux\n",
    "    Image: amazonlinux2-x86_64-standard:3.0\n",
    "    ```\n",
    "\n",
    "    Environment Variables:\n",
    "    ```\n",
    "    AWS_DEFAULT_REGION:us-east-1\n",
    "    ALGORITHM_NAME:sagemaker-random-forest\n",
    "    IMAGE_NAME:<ACCOUNT_NO>.dkr.ecr.us-east-1.amazonaws.com/sagemaker-random-forest:latest\n",
    "    ```\n",
    "4. Before start building the Docker Image, you should give proper permission to AWS CodeBuild to push the Docker Image to the ECR repository.\n",
    "    *  Open a new instance of the AWS Console in a separate browser tab/window\n",
    "    * On the left-hand side, choose `Roles`\n",
    "    * Search for CodeBuild service role (usually something like `codebuild-<PROJECT_NAME>-service-role`)\n",
    "    * Click the correct role in the list, and choose `Attach Policies`\n",
    "    * Search for the `AmazonEC2ContainerRegistryFullAccess` policy, placing a checkmark next to each\n",
    "    * Click `Attach Policy`\n",
    "\n",
    "5. Now you can click on `Start build` to build the Docker Image and push it into the repository. Monitor your ongoing build job (try clicking the first link under 'Build run' to view the log files). When your container image has been created, the 'Latest Build Status' column will show as `Succeeded`.\n",
    "Note:\n",
    "- Once the Codebuild job is complete, click the `ECR` link above. If your CodeBuild job was successful in pushing your new image into ECR, you will see a new image with the image tag `latest`. Under the `Pushed at` column for this image, you should see that this image was pushed very recently.\n",
    "\n"
   ]
  },
  {
   "cell_type": "markdown",
   "metadata": {},
   "source": [
    "<a id='part2'></a>\n",
    "\n",
    "# Part 2: Using your Algorithm in Amazon SageMaker\n",
    "\n",
    "Once you have your container packaged, you can use it to train models and use the model for hosting or batch transforms.\n",
    "\n",
    "Let's use our new container in a SageMaker training job.\n",
    "\n",
    "<a id='set-up-environment'></a>\n",
    "\n",
    "## Set up the environment\n",
    "\n",
    "Here we specify a bucket to use and the role that will be used for working with SageMaker."
   ]
  },
  {
   "cell_type": "code",
   "execution_count": null,
   "metadata": {},
   "outputs": [],
   "source": [
    "# S3 prefix\n",
    "prefix = 'DEMO-scikit-byoc-houseprices'\n",
    "\n",
    "# Define IAM role\n",
    "import boto3\n",
    "import re\n",
    "\n",
    "import os\n",
    "import numpy as np\n",
    "import pandas as pd\n",
    "from sagemaker import get_execution_role\n",
    "\n",
    "role = get_execution_role()"
   ]
  },
  {
   "cell_type": "markdown",
   "metadata": {},
   "source": [
    "<a id='create-the-session'></a>\n",
    "\n",
    "## Create the session\n",
    "\n",
    "The session remembers our connection parameters to SageMaker. We'll use it to perform all of our SageMaker operations."
   ]
  },
  {
   "cell_type": "code",
   "execution_count": null,
   "metadata": {},
   "outputs": [],
   "source": [
    "import sagemaker as sage\n",
    "from time import gmtime, strftime\n",
    "\n",
    "sess = sage.Session()"
   ]
  },
  {
   "cell_type": "markdown",
   "metadata": {},
   "source": [
    "<a id='upload-data-for-training'></a>\n",
    "\n",
    "## Upload the data for training\n",
    "\n",
    "When training large models with huge amounts of data, you'll typically use big data tools, like Amazon Athena, AWS Glue, or Amazon EMR, to create your data in S3. For the purposes of this example, we're using the Boston Housing dataset, present in Scikit-Learn: https://scikit-learn.org/stable/datasets/index.html#boston-dataset\n",
    "\n",
    "\n",
    "We can use the tools provided by the SageMaker Python SDK to upload the data to a default bucket. "
   ]
  },
  {
   "cell_type": "code",
   "execution_count": null,
   "metadata": {},
   "outputs": [],
   "source": [
    "from sklearn.model_selection import train_test_split\n",
    "from sklearn.datasets import load_boston"
   ]
  },
  {
   "cell_type": "code",
   "execution_count": null,
   "metadata": {},
   "outputs": [],
   "source": [
    "# we use the Boston housing dataset \n",
    "data = load_boston()"
   ]
  },
  {
   "cell_type": "code",
   "execution_count": null,
   "metadata": {},
   "outputs": [],
   "source": [
    "X_train, X_test, y_train, y_test = train_test_split(\n",
    "    data.data, data.target, test_size=0.25, random_state=42)\n",
    "\n",
    "trainX = pd.DataFrame(X_train, columns=data.feature_names)\n",
    "trainX['target'] = y_train\n",
    "\n",
    "testX = pd.DataFrame(X_test, columns=data.feature_names)\n",
    "testX['target'] = y_test"
   ]
  },
  {
   "cell_type": "code",
   "execution_count": null,
   "metadata": {},
   "outputs": [],
   "source": [
    "trainX.head()"
   ]
  },
  {
   "cell_type": "code",
   "execution_count": null,
   "metadata": {},
   "outputs": [],
   "source": [
    "import os\n",
    "\n",
    "# create the 'data' folder, if it doesn't exist\n",
    "if not os.path.exists(\"data\"):\n",
    "    os.mkdir(\"data\")\n",
    "\n",
    "# save our train/test sets as CSV files within the 'data' folder    \n",
    "trainX.to_csv('data/boston_train.csv')\n",
    "testX.to_csv('data/boston_test.csv')"
   ]
  },
  {
   "cell_type": "code",
   "execution_count": null,
   "metadata": {},
   "outputs": [],
   "source": [
    "WORK_DIRECTORY = 'data'\n",
    "\n",
    "# upload the train/test sets to S3\n",
    "data_location = sess.upload_data(WORK_DIRECTORY, key_prefix=prefix)"
   ]
  },
  {
   "cell_type": "markdown",
   "metadata": {},
   "source": [
    "<a id='create-and-fit-estimator'></a>\n",
    "\n",
    "## Create an estimator and fit the model\n",
    "\n",
    "In order to use SageMaker to fit our algorithm, we'll create an `Estimator` that defines how to use the container to train. This includes the configuration we need to invoke SageMaker training:\n",
    "\n",
    "* The __container name__. This is constructed as in the shell commands above.\n",
    "* The __role__. As defined above.\n",
    "* The __instance count__ which is the number of machines to use for training.\n",
    "* The __instance type__ which is the type of machine to use for training.\n",
    "* The __output path__ determines where the model artifact will be written.\n",
    "* The __session__ is the SageMaker session object that we defined above.\n",
    "\n",
    "Then we use fit() on the estimator to train against the data that we uploaded above."
   ]
  },
  {
   "cell_type": "code",
   "execution_count": null,
   "metadata": {},
   "outputs": [],
   "source": [
    "account = sess.boto_session.client('sts').get_caller_identity()['Account']\n",
    "region = sess.boto_session.region_name\n",
    "image = '{}.dkr.ecr.{}.amazonaws.com/sagemaker-random-forest:latest'.format(account, region)\n",
    "hyperparameters = {'n-estimators': 100,\n",
    "                       'min-samples-leaf': 3,\n",
    "                       'features': 'CRIM ZN INDUS CHAS NOX RM AGE DIS RAD TAX PTRATIO B LSTAT',\n",
    "                       'target': 'target'}\n",
    "\n",
    "tree = sage.estimator.Estimator(image,\n",
    "                       role, 1, 'ml.c5.xlarge',\n",
    "                       output_path=\"s3://{}/output\".format(sess.default_bucket()),\n",
    "                       hyperparameters=hyperparameters)\n",
    "\n",
    "tree.fit(data_location)"
   ]
  },
  {
   "cell_type": "markdown",
   "metadata": {},
   "source": [
    "<br/>\n",
    "<br/>\n",
    "\n",
    "Lastly, let's see where our model artifacts were stored in S3:"
   ]
  },
  {
   "cell_type": "code",
   "execution_count": null,
   "metadata": {},
   "outputs": [],
   "source": [
    "tree.model_data"
   ]
  },
  {
   "cell_type": "code",
   "execution_count": null,
   "metadata": {},
   "outputs": [],
   "source": []
  }
 ],
 "metadata": {
  "instance_type": "ml.t3.medium",
  "kernelspec": {
   "display_name": "Python 3 (Data Science)",
   "language": "python",
   "name": "python3__SAGEMAKER_INTERNAL__arn:aws:sagemaker:us-east-1:081325390199:image/datascience-1.0"
  },
  "language_info": {
   "codemirror_mode": {
    "name": "ipython",
    "version": 3
   },
   "file_extension": ".py",
   "mimetype": "text/x-python",
   "name": "python",
   "nbconvert_exporter": "python",
   "pygments_lexer": "ipython3",
   "version": "3.7.6"
  }
 },
 "nbformat": 4,
 "nbformat_minor": 4
}
