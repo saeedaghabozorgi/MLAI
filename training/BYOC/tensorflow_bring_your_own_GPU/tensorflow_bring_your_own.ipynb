{
 "cells": [
  {
   "cell_type": "markdown",
   "metadata": {},
   "source": [
    "# Building your own TensorFlow container\n",
    "\n",
    "With Amazon SageMaker, you can package your own algorithms that can then be trained and deployed in the SageMaker environment. This notebook guides you through an example using TensorFlow that shows you how to build a Docker container for SageMaker and use it for training and inference.\n",
    "\n",
    "By packaging an algorithm in a container, you can bring almost any code to the Amazon SageMaker environment, regardless of programming language, environment, framework, or dependencies. \n",
    "\n",
    "1. [Building your own TensorFlow container](#Building-your-own-tensorflow-container)\n",
    "  1. [When should I build my own algorithm container?](#When-should-I-build-my-own-algorithm-container?)\n",
    "  1. [Permissions](#Permissions)\n",
    "  1. [The example](#The-example)\n",
    "  1. [The presentation](#The-presentation)\n",
    "1. [Part 1: Packaging and Uploading your Algorithm for use with Amazon SageMaker](#Part-1:-Packaging-and-Uploading-your-Algorithm-for-use-with-Amazon-SageMaker)\n",
    "    1. [An overview of Docker](#An-overview-of-Docker)\n",
    "    1. [How Amazon SageMaker runs your Docker container](#How-Amazon-SageMaker-runs-your-Docker-container)\n",
    "      1. [Running your container during training](#Running-your-container-during-training)\n",
    "        1. [The input](#The-input)\n",
    "        1. [The output](#The-output)\n",
    "      1. [Running your container during hosting](#Running-your-container-during-hosting)\n",
    "    1. [The parts of the sample container](#The-parts-of-the-sample-container)\n",
    "    1. [The Dockerfile](#The-Dockerfile)\n",
    "    1. [Building and registering the container](#Building-and-registering-the-container)\n",
    "  1. [Testing your algorithm on your local machine](#Testing-your-algorithm-on-your-local-machine)\n",
    "1. [Part 2: Training and Hosting your Algorithm in Amazon SageMaker](#Part-2:-Training-and-Hosting-your-Algorithm-in-Amazon-SageMaker)\n",
    "  1. [Set up the environment](#Set-up-the-environment)\n",
    "  1. [Create the session](#Create-the-session)\n",
    "  1. [Upload the data for training](#Upload-the-data-for-training)\n",
    "  1. [Training On SageMaker](#Training-on-SageMaker)\n",
    "  1. [Optional cleanup](#Optional-cleanup)  \n",
    "1. [Reference](#Reference)\n",
    "\n",
    "_or_ I'm impatient, just [let me see the code](#The-Dockerfile)!\n",
    "\n",
    "## When should I build my own algorithm container?\n",
    "\n",
    "You may not need to create a container to bring your own code to Amazon SageMaker. When you are using a framework such as Apache MXNet or TensorFlow that has direct support in SageMaker, you can simply supply the Python code that implements your algorithm using the SDK entry points for that framework. This set of supported frameworks is regularly added to, so you should check the current list to determine whether your algorithm is written in one of these common machine learning environments.\n",
    "\n",
    "Even if there is direct SDK support for your environment or framework, you may find it more effective to build your own container. If the code that implements your algorithm is quite complex or you need special additions to the framework, building your own container may be the right choice.\n",
    "\n",
    "Some of the reasons to build an already supported framework container are:\n",
    "1. A specific version isn't supported.\n",
    "2. Configure and install your dependencies and environment.\n",
    "3. Use a different training/hosting solution than provided.\n",
    "\n",
    "This walkthrough shows that it is quite straightforward to build your own container. So you can still use SageMaker even if your use case is not covered by the deep learning containers that we've built for you.\n",
    "\n",
    "## Permissions\n",
    "\n",
    "Running this notebook requires permissions in addition to the normal `SageMakerFullAccess` permissions. This is because it creates new repositories in Amazon ECR. The easiest way to add these permissions is simply to add the managed policy `AmazonEC2ContainerRegistryFullAccess` to the role that you used to start your notebook instance. There's no need to restart your notebook instance when you do this, the new permissions will be available immediately.\n",
    "\n",
    "## The example\n",
    "\n",
    "In this example we show how to package a custom TensorFlow container with a Python example which works with the CIFAR-10 dataset and uses TensorFlow Serving for inference. However, different inference solutions other than TensorFlow Serving can be used by modifying the docker container.\n",
    "\n",
    "In this example, we use a single image to support training and hosting. This simplifies the procedure because we only need to manage one image for both tasks. Sometimes you may want separate images for training and hosting because they have different requirements. In this case, separate the parts discussed below into separate Dockerfiles and build two images. Choosing whether to use a single image or two images is a matter of what is most convenient for you to develop and manage.\n",
    "\n",
    "If you're only using Amazon SageMaker for training or hosting, but not both, only the functionality used needs to be built into your container.\n",
    "\n",
    "[CIFAR-10]: http://www.cs.toronto.edu/~kriz/cifar.html\n",
    "\n",
    "## The presentation\n",
    "\n",
    "This presentation is divided into two parts: _building_ the container and _using_ the container."
   ]
  },
  {
   "cell_type": "markdown",
   "metadata": {},
   "source": [
    "# Part 1: Packaging and Uploading your Algorithm for use with Amazon SageMaker\n",
    "\n",
    "### An overview of Docker\n",
    "\n",
    "If you're familiar with Docker already, you can skip ahead to the next section.\n",
    "\n",
    "For many data scientists, Docker containers are a new technology. But they are not difficult and can significantly simply the deployment of your software packages. \n",
    "\n",
    "Docker provides a simple way to package arbitrary code into an _image_ that is totally self-contained. Once you have an image, you can use Docker to run a _container_ based on that image. Running a container is just like running a program on the machine except that the container creates a fully self-contained environment for the program to run. Containers are isolated from each other and from the host environment, so the way your program is set up is the way it runs, no matter where you run it.\n",
    "\n",
    "Docker is more powerful than environment managers like conda or virtualenv because (a) it is completely language independent and (b) it comprises your whole operating environment, including startup commands, and environment variable.\n",
    "\n",
    "A Docker container is like a virtual machine, but it is much lighter weight. For example, a program running in a container can start in less than a second and many containers can run simultaneously on the same physical or virtual machine instance.\n",
    "\n",
    "Docker uses a simple file called a `Dockerfile` to specify how the image is assembled. An example is provided below. You can build your Docker images based on Docker images built by yourself or by others, which can simplify things quite a bit.\n",
    "\n",
    "Docker has become very popular in programming and devops communities due to its flexibility and its well-defined specification of how code can be run in its containers. It is the underpinning of many services built in the past few years, such as [Amazon ECS].\n",
    "\n",
    "Amazon SageMaker uses Docker to allow users to train and deploy arbitrary algorithms.\n",
    "\n",
    "In Amazon SageMaker, Docker containers are invoked in a one way for training and another, slightly different, way for hosting. The following sections outline how to build containers for the SageMaker environment.\n",
    "\n",
    "Some helpful links:\n",
    "\n",
    "* [Docker home page](http://www.docker.com)\n",
    "* [Getting started with Docker](https://docs.docker.com/get-started/)\n",
    "* [Dockerfile reference](https://docs.docker.com/engine/reference/builder/)\n",
    "* [`docker run` reference](https://docs.docker.com/engine/reference/run/)\n",
    "\n",
    "[Amazon ECS]: https://aws.amazon.com/ecs/\n",
    "\n",
    "### How Amazon SageMaker runs your Docker container\n",
    "\n",
    "Because you can run the same image in training or hosting, Amazon SageMaker runs your container with the argument `train` or `serve`. How your container processes this argument depends on the container.\n",
    "\n",
    "* In this example, we don't define an `ENTRYPOINT` in the Dockerfile so Docker runs the command [`train` at training time](https://docs.aws.amazon.com/sagemaker/latest/dg/your-algorithms-training-algo.html) and [`serve` at serving time](https://docs.aws.amazon.com/sagemaker/latest/dg/your-algorithms-inference-code.html). In this example, we define these as executable Python scripts, but they could be any program that we want to start in that environment.\n",
    "* If you specify a program as an `ENTRYPOINT` in the Dockerfile, that program will be run at startup and its first argument will be `train` or `serve`. The program can then look at that argument and decide what to do.\n",
    "* If you are building separate containers for training and hosting (or building only for one or the other), you can define a program as an `ENTRYPOINT` in the Dockerfile and ignore (or verify) the first argument passed in. \n",
    "\n",
    "#### Running your container during training\n",
    "\n",
    "When Amazon SageMaker runs training, your `train` script is run, as in a regular Python program. A number of files are laid out for your use, under the `/opt/ml` directory:\n",
    "\n",
    "    /opt/ml\n",
    "    |-- input\n",
    "    |   |-- config\n",
    "    |   |   |-- hyperparameters.json\n",
    "    |   |   `-- resourceConfig.json\n",
    "    |   `-- data\n",
    "    |       `-- <channel_name>\n",
    "    |           `-- <input data>\n",
    "    |-- model\n",
    "    |   `-- <model files>\n",
    "    `-- output\n",
    "        `-- failure\n",
    "\n",
    "##### The input\n",
    "\n",
    "* `/opt/ml/input/config` contains information to control how your program runs. `hyperparameters.json` is a JSON-formatted dictionary of hyperparameter names to values. These values are always strings, so you may need to convert them. `resourceConfig.json` is a JSON-formatted file that describes the network layout used for distributed training.\n",
    "* `/opt/ml/input/data/<channel_name>/` (for File mode) contains the input data for that channel. The channels are created based on the call to CreateTrainingJob but it's generally important that channels match algorithm expectations. The files for each channel are copied from S3 to this directory, preserving the tree structure indicated by the S3 key structure. \n",
    "* `/opt/ml/input/data/<channel_name>_<epoch_number>` (for Pipe mode) is the pipe for a given epoch. Epochs start at zero and go up by one each time you read them. There is no limit to the number of epochs that you can run, but you must close each pipe before reading the next epoch.\n",
    "\n",
    "##### The output\n",
    "\n",
    "* `/opt/ml/model/` is the directory where you write the model that your algorithm generates. Your model can be in any format that you want. It can be a single file or a whole directory tree. SageMaker packages any files in this directory into a compressed tar archive file. This file is made available at the S3 location returned in the `DescribeTrainingJob` result.\n",
    "* `/opt/ml/output` is a directory where the algorithm can write a file `failure` that describes why the job failed. The contents of this file are returned in the `FailureReason` field of the `DescribeTrainingJob` result. For jobs that succeed, there is no reason to write this file as it is ignored.\n",
    "\n",
    "#### Running your container during hosting\n",
    "\n",
    "Hosting has a very different model than training because hosting is reponding to inference requests that come in via HTTP. In this example, we use [TensorFlow Serving](https://www.tensorflow.org/serving/), however the hosting solution can be customized. One example is the [Python serving stack within the scikit learn example](https://github.com/awslabs/amazon-sagemaker-examples/blob/master/advanced_functionality/scikit_bring_your_own/scikit_bring_your_own.ipynb).\n",
    "\n",
    "Amazon SageMaker uses two URLs in the container:\n",
    "\n",
    "* `/ping` receives `GET` requests from the infrastructure. Your program returns 200 if the container is up and accepting requests.\n",
    "* `/invocations` is the endpoint that receives client inference `POST` requests. The format of the request and the response is up to the algorithm. If the client supplied `ContentType` and `Accept` headers, these are passed in as well. \n",
    "\n",
    "The container has the model files in the same place that they were written to during training:\n",
    "\n",
    "    /opt/ml\n",
    "    `-- model\n",
    "        `-- <model files>\n",
    "\n"
   ]
  },
  {
   "cell_type": "markdown",
   "metadata": {},
   "source": [
    "### The parts of the sample container\n",
    "\n",
    "The `container` directory has all the components you need to package the sample algorithm for Amazon SageMager:\n",
    "\n",
    "    .\n",
    "    |-- Dockerfile\n",
    "    |-- build_and_push.sh\n",
    "    `-- cifar10\n",
    "        |-- cifar10.py\n",
    "        |-- resnet_model.py\n",
    "        |-- nginx.conf\n",
    "        |-- serve\n",
    "        `-- train\n",
    "\n",
    "Let's discuss each of these in turn:\n",
    "\n",
    "* __`Dockerfile`__ describes how to build your Docker container image. More details are provided below.\n",
    "* __`build_and_push.sh`__ is a script that uses the Dockerfile to build your container images and then pushes it to ECR. We invoke the commands directly later in this notebook, but you can just copy and run the script for your own algorithms.\n",
    "* __`cifar10`__ is the directory which contains the files that are installed in the container.\n",
    "\n",
    "In this simple application, we install only five files in the container. You may only need that many, but if you have many supporting routines, you may wish to install more. These five files show the standard structure of our Python containers, although you are free to choose a different toolset and therefore could have a different layout. If you're writing in a different programming language, you will have a different layout depending on the frameworks and tools you choose.\n",
    "\n",
    "The files that we put in the container are:\n",
    "\n",
    "* __`cifar10.py`__ is the program that implements our training algorithm.\n",
    "* __`resnet_model.py`__ is the program that contains our Resnet model. \n",
    "* __`nginx.conf`__ is the configuration file for the nginx front-end. Generally, you should be able to take this file as-is.\n",
    "* __`serve`__ is the program started when the container is started for hosting. It simply launches nginx and loads your exported model with TensorFlow Serving.\n",
    "* __`train`__ is the program that is invoked when the container is run for training. Our implementation of this script invokes cifar10.py with our our hyperparameter values retrieved from /opt/ml/input/config/hyperparameters.json. The goal for doing this is to avoid having to modify our training algorithm program.\n",
    "\n",
    "In summary, the two files you probably want to change for your application are `train` and `serve`."
   ]
  },
  {
   "cell_type": "markdown",
   "metadata": {},
   "source": [
    "### The Dockerfile\n",
    "\n",
    "The Dockerfile describes the image that we want to build. You can think of it as describing the complete operating system installation of the system that you want to run. A Docker container running is quite a bit lighter than a full operating system, however, because it takes advantage of Linux on the host machine for the basic operations. \n",
    "\n",
    "For the Python science stack, we start from an official TensorFlow docker image and run the normal tools to install TensorFlow Serving. Then we add the code that implements our specific algorithm to the container and set up the right environment for it to run under.\n",
    "\n",
    "Let's look at the Dockerfile for this example."
   ]
  },
  {
   "cell_type": "code",
   "execution_count": 1,
   "metadata": {},
   "outputs": [
    {
     "name": "stdout",
     "output_type": "stream",
     "text": [
      "# Copyright 2017-2018 Amazon.com, Inc. or its affiliates. All Rights Reserved.\n",
      "#\n",
      "# Licensed under the Apache License, Version 2.0 (the \"License\"). You\n",
      "# may not use this file except in compliance with the License. A copy of\n",
      "# the License is located at\n",
      "#\n",
      "#     http://aws.amazon.com/apache2.0/\n",
      "#\n",
      "# or in the \"license\" file accompanying this file. This file is\n",
      "# distributed on an \"AS IS\" BASIS, WITHOUT WARRANTIES OR CONDITIONS OF\n",
      "# ANY KIND, either express or implied. See the License for the specific\n",
      "# language governing permissions and limitations under the License.\n",
      "\n",
      "# For more information on creating a Dockerfile\n",
      "# https://docs.docker.com/compose/gettingstarted/#step-2-create-a-dockerfile\n",
      "FROM tensorflow/tensorflow:1.8.0-py3\n",
      "\n",
      "RUN apt-get update && apt-get install -y --no-install-recommends nginx curl\n",
      "\n",
      "# Download TensorFlow Serving\n",
      "# https://www.tensorflow.org/serving/setup#installing_the_modelserver\n",
      "RUN echo \"deb [arch=amd64] http://storage.googleapis.com/tensorflow-serving-apt stable tensorflow-model-server tensorflow-model-server-universal\" | tee /etc/apt/sources.list.d/tensorflow-serving.list\n",
      "RUN curl https://storage.googleapis.com/tensorflow-serving-apt/tensorflow-serving.release.pub.gpg | apt-key add -\n",
      "RUN apt-get update && apt-get install tensorflow-model-server\n",
      "\n",
      "ENV PATH=\"/opt/ml/code:${PATH}\"\n",
      "\n",
      "# /opt/ml and all subdirectories are utilized by SageMaker, we use the /code subdirectory to store our user code.\n",
      "COPY /cifar10 /opt/ml/code\n",
      "WORKDIR /opt/ml/code"
     ]
    }
   ],
   "source": [
    "!cat container/Dockerfile"
   ]
  },
  {
   "cell_type": "markdown",
   "metadata": {},
   "source": [
    "### Building and registering the container\n",
    "\n",
    "The following shell code shows how to build the container image using `docker build` and push the container image to ECR using `docker push`. This code is also available as the shell script `container/build-and-push.sh`, which you can run as `build-and-push.sh sagemaker-tf-cifar10-example` to build the image `sagemaker-tf-cifar10-example`. \n",
    "\n",
    "This code looks for an ECR repository in the account you're using and the current default region (if you're using a SageMaker notebook instance, this is the region where the notebook instance was created). If the repository doesn't exist, the script will create it."
   ]
  },
  {
   "cell_type": "code",
   "execution_count": 64,
   "metadata": {},
   "outputs": [
    {
     "name": "stdout",
     "output_type": "stream",
     "text": [
      "Process is interrupted.\n"
     ]
    }
   ],
   "source": [
    "%%sh\n",
    "\n",
    "# The name of our algorithm\n",
    "algorithm_name=sagemaker-tf-cifar10-example\n",
    "\n",
    "cd container\n",
    "\n",
    "chmod +x cifar10/train\n",
    "chmod +x cifar10/serve\n",
    "\n",
    "account=$(aws sts get-caller-identity --query Account --output text)\n",
    "\n",
    "# Get the region defined in the current configuration (default to us-west-2 if none defined)\n",
    "region=$(aws configure get region)\n",
    "echo $region\n",
    "region=${region:-us-west-2}\n",
    "\n",
    "fullname=\"${account}.dkr.ecr.${region}.amazonaws.com/${algorithm_name}:latest\"\n",
    "echo $fullname\n",
    "# If the repository doesn't exist in ECR, create it.\n",
    "\n",
    "aws ecr describe-repositories --repository-names \"${algorithm_name}\" > /dev/null 2>&1\n",
    "\n",
    "if [ $? -ne 0 ]\n",
    "then\n",
    "    aws ecr create-repository --repository-name \"${algorithm_name}\" > /dev/null\n",
    "fi\n",
    "\n",
    "\n",
    "\n",
    "# Get the login command from ECR and execute it directly\n",
    "$(aws ecr get-login --region ${region} --no-include-email)\n",
    "\n",
    "echo $(aws ecr get-login --region ${region} --no-include-email)\n",
    "# Build the docker image locally with the image name and then push it to ECR\n",
    "# with the full name.\n",
    "\n",
    "docker build  -t ${algorithm_name} .\n",
    "docker tag ${algorithm_name} ${fullname}\n",
    "\n",
    "docker push ${fullname}"
   ]
  },
  {
   "cell_type": "markdown",
   "metadata": {},
   "source": [
    "## Testing your algorithm on your local machine\n",
    "\n",
    "When you're packaging you first algorithm to use with Amazon SageMaker, you probably want to test it yourself to make sure it's working correctly. We use the [SageMaker Python SDK](https://github.com/aws/sagemaker-python-sdk) to test both locally and on SageMaker. For more examples with the SageMaker Python SDK, see [Amazon SageMaker Examples](https://github.com/awslabs/amazon-sagemaker-examples/tree/master/sagemaker-python-sdk). In order to test our algorithm, we need our dataset."
   ]
  },
  {
   "cell_type": "markdown",
   "metadata": {},
   "source": [
    "## Download the CIFAR-10 dataset\n",
    "Our training algorithm is expecting our training data to be in the file format of [TFRecords](https://www.tensorflow.org/guide/datasets), which is a simple record-oriented binary format that many TensorFlow applications use for training data.\n",
    "Below is a Python script adapted from the [official TensorFlow CIFAR-10 example](https://github.com/tensorflow/models/tree/master/tutorials/image/cifar10_estimator), which downloads the CIFAR-10 dataset and converts them into TFRecords."
   ]
  },
  {
   "cell_type": "code",
   "execution_count": 4,
   "metadata": {},
   "outputs": [
    {
     "name": "stdout",
     "output_type": "stream",
     "text": [
      "WARNING:tensorflow:From /home/ec2-user/anaconda3/envs/tensorflow_p36/lib/python3.6/site-packages/tensorflow_core/__init__.py:1473: The name tf.estimator.inputs is deprecated. Please use tf.compat.v1.estimator.inputs instead.\n",
      "\n",
      "Download from https://www.cs.toronto.edu/~kriz/cifar-10-python.tar.gz and extract.\n",
      "FloatProgress(value=0.0)\n",
      ">> Downloading cifar-10-python.tar.gz \n",
      "Successfully downloaded cifar-10-python.tar.gz 170498071 bytes.\n",
      "Generating /tmp/cifar-10-data/train.tfrecords\n",
      "WARNING:tensorflow:From utils/generate_cifar10_tfrecords.py:99: The name tf.python_io.TFRecordWriter is deprecated. Please use tf.io.TFRecordWriter instead.\n",
      "\n",
      "WARNING:tensorflow:From utils/generate_cifar10_tfrecords.py:88: The name tf.gfile.Open is deprecated. Please use tf.io.gfile.GFile instead.\n",
      "\n",
      "Generating /tmp/cifar-10-data/validation.tfrecords\n",
      "Generating /tmp/cifar-10-data/eval.tfrecords\n",
      "Removing original files.\n",
      "Done!\n"
     ]
    }
   ],
   "source": [
    "! python utils/generate_cifar10_tfrecords.py --data-dir=/tmp/cifar-10-data"
   ]
  },
  {
   "cell_type": "code",
   "execution_count": 50,
   "metadata": {},
   "outputs": [
    {
     "name": "stdout",
     "output_type": "stream",
     "text": [
      "eval.tfrecords\ttrain.tfrecords  validation.tfrecords\n"
     ]
    }
   ],
   "source": [
    "# There should be three tfrecords. (eval, train, validation)\n",
    "! ls /tmp/cifar-10-data"
   ]
  },
  {
   "cell_type": "markdown",
   "metadata": {},
   "source": [
    "## SageMaker Python SDK Local Training\n",
    "To represent our training, we use the Estimator class, which needs to be configured in five steps. \n",
    "1. IAM role - our AWS execution role\n",
    "2. train_instance_count - number of instances to use for training.\n",
    "3. train_instance_type - type of instance to use for training. For training locally, we specify `local`.\n",
    "4. image_name - our custom TensorFlow Docker image we created.\n",
    "5. hyperparameters - hyperparameters we want to pass.\n",
    "\n",
    "Let's start with setting up our IAM role. We make use of a helper function within the Python SDK. This function throw an exception if run outside of a SageMaker notebook instance, as it gets metadata from the notebook instance. If running outside, you must provide an IAM role with proper access stated above in [Permissions](#Permissions)."
   ]
  },
  {
   "cell_type": "code",
   "execution_count": 3,
   "metadata": {},
   "outputs": [],
   "source": [
    "from sagemaker import get_execution_role\n",
    "\n",
    "role = get_execution_role()"
   ]
  },
  {
   "cell_type": "markdown",
   "metadata": {},
   "source": [
    "## Fit, Deploy, Predict\n",
    "\n",
    "Now that the rest of our estimator is configured, we can call `fit()` with the path to our local CIFAR10 dataset prefixed with `file://`. This invokes our TensorFlow container with 'train' and passes in our hyperparameters and other metadata as json files in /opt/ml/input/config within the container.\n",
    "\n",
    "After our training has succeeded, our training algorithm outputs our trained model within the /opt/ml/model directory, which is used to handle predictions.\n",
    "\n",
    "We can then call `deploy()` with an instance_count and instance_type, which is 1 and `local`. This invokes our Tensorflow container with 'serve', which setups our container to handle prediction requests through TensorFlow Serving. What is returned is a predictor, which is used to make inferences against our trained model.\n",
    "\n",
    "After our prediction, we can delete our endpoint.\n",
    "\n",
    "We recommend testing and training your training algorithm locally first, as it provides quicker iterations and better debuggability."
   ]
  },
  {
   "cell_type": "code",
   "execution_count": 1,
   "metadata": {},
   "outputs": [
    {
     "name": "stdout",
     "output_type": "stream",
     "text": [
      "The user has root access.\n",
      "SageMaker instance route table setup is ok. We are good to go.\n",
      "SageMaker instance routing for Docker is ok. We are good to go!\n"
     ]
    }
   ],
   "source": [
    "# Lets set up our SageMaker notebook instance for local mode.\n",
    "!/bin/bash ./utils/setup.sh"
   ]
  },
  {
   "cell_type": "code",
   "execution_count": 23,
   "metadata": {},
   "outputs": [
    {
     "name": "stderr",
     "output_type": "stream",
     "text": [
      "WARNING:root:Parameter image_name will be renamed to image_uri in SageMaker Python SDK v2.\n"
     ]
    },
    {
     "name": "stdout",
     "output_type": "stream",
     "text": [
      "Creating tmpi6e_faut_algo-1-2lrow_1 ... \n",
      "\u001b[1BAttaching to tmpi6e_faut_algo-1-2lrow_12mdone\u001b[0m\n",
      "\u001b[36malgo-1-2lrow_1  |\u001b[0m Training started.\n",
      "\u001b[36malgo-1-2lrow_1  |\u001b[0m =========\n",
      "\u001b[36malgo-1-2lrow_1  |\u001b[0m WARNING:tensorflow:From /usr/local/lib/python3.7/site-packages/tensorflow_core/__init__.py:1473: The name tf.estimator.inputs is deprecated. Please use tf.compat.v1.estimator.inputs instead.\n",
      "\u001b[36malgo-1-2lrow_1  |\u001b[0m \n",
      "\u001b[36malgo-1-2lrow_1  |\u001b[0m test\n",
      "\u001b[36malgo-1-2lrow_1  |\u001b[0m test\n",
      "\u001b[36malgo-1-2lrow_1  |\u001b[0m test\n",
      "\u001b[36malgo-1-2lrow_1  |\u001b[0m WARNING:tensorflow:From cifar10.py:191: The name tf.logging.set_verbosity is deprecated. Please use tf.compat.v1.logging.set_verbosity instead.\n",
      "\u001b[36malgo-1-2lrow_1  |\u001b[0m \n",
      "\u001b[36malgo-1-2lrow_1  |\u001b[0m WARNING:tensorflow:From cifar10.py:191: The name tf.logging.INFO is deprecated. Please use tf.compat.v1.logging.INFO instead.\n",
      "\u001b[36malgo-1-2lrow_1  |\u001b[0m \n",
      "\u001b[36malgo-1-2lrow_1  |\u001b[0m INFO:tensorflow:Using default config.\n",
      "\u001b[36malgo-1-2lrow_1  |\u001b[0m INFO:tensorflow:Using config: {'_model_dir': '/opt/ml/model', '_tf_random_seed': None, '_save_summary_steps': 100, '_save_checkpoints_steps': None, '_save_checkpoints_secs': 600, '_session_config': allow_soft_placement: true\n",
      "\u001b[36malgo-1-2lrow_1  |\u001b[0m graph_options {\n",
      "\u001b[36malgo-1-2lrow_1  |\u001b[0m   rewrite_options {\n",
      "\u001b[36malgo-1-2lrow_1  |\u001b[0m     meta_optimizer_iterations: ONE\n",
      "\u001b[36malgo-1-2lrow_1  |\u001b[0m   }\n",
      "\u001b[36malgo-1-2lrow_1  |\u001b[0m }\n",
      "\u001b[36malgo-1-2lrow_1  |\u001b[0m , '_keep_checkpoint_max': 5, '_keep_checkpoint_every_n_hours': 10000, '_log_step_count_steps': 100, '_train_distribute': None, '_device_fn': None, '_protocol': None, '_eval_distribute': None, '_experimental_distribute': None, '_experimental_max_worker_delay_secs': None, '_session_creation_timeout_secs': 7200, '_service': None, '_cluster_spec': <tensorflow.python.training.server_lib.ClusterSpec object at 0x7f6e2f02f350>, '_task_type': 'worker', '_task_id': 0, '_global_id_in_cluster': 0, '_master': '', '_evaluation_master': '', '_is_chief': True, '_num_ps_replicas': 0, '_num_worker_replicas': 1}\n",
      "\u001b[36malgo-1-2lrow_1  |\u001b[0m INFO:tensorflow:Not using Distribute Coordinator.\n",
      "\u001b[36malgo-1-2lrow_1  |\u001b[0m INFO:tensorflow:Running training and evaluation locally (non-distributed).\n",
      "\u001b[36malgo-1-2lrow_1  |\u001b[0m INFO:tensorflow:Start train and evaluate loop. The evaluate will happen after every checkpoint. Checkpoint frequency is determined based on RunConfig arguments: save_checkpoints_steps None or save_checkpoints_secs 600.\n",
      "\u001b[36malgo-1-2lrow_1  |\u001b[0m WARNING:tensorflow:From /usr/local/lib/python3.7/site-packages/tensorflow_core/python/training/training_util.py:236: Variable.initialized_value (from tensorflow.python.ops.variables) is deprecated and will be removed in a future version.\n",
      "\u001b[36malgo-1-2lrow_1  |\u001b[0m Instructions for updating:\n",
      "\u001b[36malgo-1-2lrow_1  |\u001b[0m Use Variable.read_value. Variables in 2.X are initialized automatically both in eager and graph (inside tf.defun) contexts.\n",
      "\u001b[36malgo-1-2lrow_1  |\u001b[0m WARNING:tensorflow:From /usr/local/lib/python3.7/site-packages/tensorflow_core/python/training/training_util.py:236: Variable.initialized_value (from tensorflow.python.ops.variables) is deprecated and will be removed in a future version.\n",
      "\u001b[36malgo-1-2lrow_1  |\u001b[0m Instructions for updating:\n",
      "\u001b[36malgo-1-2lrow_1  |\u001b[0m Use Variable.read_value. Variables in 2.X are initialized automatically both in eager and graph (inside tf.defun) contexts.\n",
      "\u001b[36malgo-1-2lrow_1  |\u001b[0m WARNING:tensorflow:From /usr/local/lib/python3.7/site-packages/tensorflow_core/python/autograph/converters/directives.py:119: The name tf.parse_single_example is deprecated. Please use tf.io.parse_single_example instead.\n",
      "\u001b[36malgo-1-2lrow_1  |\u001b[0m \n",
      "\u001b[36malgo-1-2lrow_1  |\u001b[0m WARNING:tensorflow:From /usr/local/lib/python3.7/site-packages/tensorflow_core/python/autograph/converters/directives.py:119: The name tf.parse_single_example is deprecated. Please use tf.io.parse_single_example instead.\n",
      "\u001b[36malgo-1-2lrow_1  |\u001b[0m \n",
      "\u001b[36malgo-1-2lrow_1  |\u001b[0m WARNING:tensorflow:From /usr/local/lib/python3.7/site-packages/tensorflow_core/python/autograph/converters/directives.py:119: The name tf.FixedLenFeature is deprecated. Please use tf.io.FixedLenFeature instead.\n",
      "\u001b[36malgo-1-2lrow_1  |\u001b[0m \n",
      "\u001b[36malgo-1-2lrow_1  |\u001b[0m WARNING:tensorflow:From /usr/local/lib/python3.7/site-packages/tensorflow_core/python/autograph/converters/directives.py:119: The name tf.FixedLenFeature is deprecated. Please use tf.io.FixedLenFeature instead.\n",
      "\u001b[36malgo-1-2lrow_1  |\u001b[0m \n",
      "\u001b[36malgo-1-2lrow_1  |\u001b[0m WARNING:tensorflow:From cifar10.py:138: DatasetV1.make_one_shot_iterator (from tensorflow.python.data.ops.dataset_ops) is deprecated and will be removed in a future version.\n",
      "\u001b[36malgo-1-2lrow_1  |\u001b[0m Instructions for updating:\n",
      "\u001b[36malgo-1-2lrow_1  |\u001b[0m Use `for ... in dataset:` to iterate over a dataset. If using `tf.estimator`, return the `Dataset` object directly from your input function. As a last resort, you can use `tf.compat.v1.data.make_one_shot_iterator(dataset)`.\n",
      "\u001b[36malgo-1-2lrow_1  |\u001b[0m WARNING:tensorflow:From cifar10.py:138: DatasetV1.make_one_shot_iterator (from tensorflow.python.data.ops.dataset_ops) is deprecated and will be removed in a future version.\n",
      "\u001b[36malgo-1-2lrow_1  |\u001b[0m Instructions for updating:\n",
      "\u001b[36malgo-1-2lrow_1  |\u001b[0m Use `for ... in dataset:` to iterate over a dataset. If using `tf.estimator`, return the `Dataset` object directly from your input function. As a last resort, you can use `tf.compat.v1.data.make_one_shot_iterator(dataset)`.\n",
      "\u001b[36malgo-1-2lrow_1  |\u001b[0m INFO:tensorflow:Calling model_fn.\n",
      "\u001b[36malgo-1-2lrow_1  |\u001b[0m INFO:tensorflow:Calling model_fn.\n",
      "\u001b[36malgo-1-2lrow_1  |\u001b[0m WARNING:tensorflow:From cifar10.py:56: The name tf.summary.image is deprecated. Please use tf.compat.v1.summary.image instead.\n",
      "\u001b[36malgo-1-2lrow_1  |\u001b[0m \n",
      "\u001b[36malgo-1-2lrow_1  |\u001b[0m WARNING:tensorflow:From cifar10.py:56: The name tf.summary.image is deprecated. Please use tf.compat.v1.summary.image instead.\n",
      "\u001b[36malgo-1-2lrow_1  |\u001b[0m \n",
      "\u001b[36malgo-1-2lrow_1  |\u001b[0m WARNING:tensorflow:From /opt/ml/code/resnet_model.py:92: conv2d (from tensorflow.python.layers.convolutional) is deprecated and will be removed in a future version.\n",
      "\u001b[36malgo-1-2lrow_1  |\u001b[0m Instructions for updating:\n",
      "\u001b[36malgo-1-2lrow_1  |\u001b[0m Use `tf.keras.layers.Conv2D` instead.\n",
      "\u001b[36malgo-1-2lrow_1  |\u001b[0m WARNING:tensorflow:From /opt/ml/code/resnet_model.py:92: conv2d (from tensorflow.python.layers.convolutional) is deprecated and will be removed in a future version.\n",
      "\u001b[36malgo-1-2lrow_1  |\u001b[0m Instructions for updating:\n",
      "\u001b[36malgo-1-2lrow_1  |\u001b[0m Use `tf.keras.layers.Conv2D` instead.\n",
      "\u001b[36malgo-1-2lrow_1  |\u001b[0m WARNING:tensorflow:From /usr/local/lib/python3.7/site-packages/tensorflow_core/python/layers/convolutional.py:424: Layer.apply (from tensorflow.python.keras.engine.base_layer) is deprecated and will be removed in a future version.\n",
      "\u001b[36malgo-1-2lrow_1  |\u001b[0m Instructions for updating:\n",
      "\u001b[36malgo-1-2lrow_1  |\u001b[0m Please use `layer.__call__` method instead.\n",
      "\u001b[36malgo-1-2lrow_1  |\u001b[0m WARNING:tensorflow:From /usr/local/lib/python3.7/site-packages/tensorflow_core/python/layers/convolutional.py:424: Layer.apply (from tensorflow.python.keras.engine.base_layer) is deprecated and will be removed in a future version.\n",
      "\u001b[36malgo-1-2lrow_1  |\u001b[0m Instructions for updating:\n",
      "\u001b[36malgo-1-2lrow_1  |\u001b[0m Please use `layer.__call__` method instead.\n",
      "\u001b[36malgo-1-2lrow_1  |\u001b[0m WARNING:tensorflow:From /opt/ml/code/resnet_model.py:49: batch_normalization (from tensorflow.python.layers.normalization) is deprecated and will be removed in a future version.\n",
      "\u001b[36malgo-1-2lrow_1  |\u001b[0m Instructions for updating:\n",
      "\u001b[36malgo-1-2lrow_1  |\u001b[0m Use keras.layers.BatchNormalization instead.  In particular, `tf.control_dependencies(tf.GraphKeys.UPDATE_OPS)` should not be used (consult the `tf.keras.layers.batch_normalization` documentation).\n",
      "\u001b[36malgo-1-2lrow_1  |\u001b[0m WARNING:tensorflow:From /opt/ml/code/resnet_model.py:49: batch_normalization (from tensorflow.python.layers.normalization) is deprecated and will be removed in a future version.\n",
      "\u001b[36malgo-1-2lrow_1  |\u001b[0m Instructions for updating:\n",
      "\u001b[36malgo-1-2lrow_1  |\u001b[0m Use keras.layers.BatchNormalization instead.  In particular, `tf.control_dependencies(tf.GraphKeys.UPDATE_OPS)` should not be used (consult the `tf.keras.layers.batch_normalization` documentation).\n",
      "\u001b[36malgo-1-2lrow_1  |\u001b[0m WARNING:tensorflow:From /opt/ml/code/resnet_model.py:272: average_pooling2d (from tensorflow.python.layers.pooling) is deprecated and will be removed in a future version.\n",
      "\u001b[36malgo-1-2lrow_1  |\u001b[0m Instructions for updating:\n",
      "\u001b[36malgo-1-2lrow_1  |\u001b[0m Use keras.layers.AveragePooling2D instead.\n",
      "\u001b[36malgo-1-2lrow_1  |\u001b[0m WARNING:tensorflow:From /opt/ml/code/resnet_model.py:272: average_pooling2d (from tensorflow.python.layers.pooling) is deprecated and will be removed in a future version.\n",
      "\u001b[36malgo-1-2lrow_1  |\u001b[0m Instructions for updating:\n",
      "\u001b[36malgo-1-2lrow_1  |\u001b[0m Use keras.layers.AveragePooling2D instead.\n",
      "\u001b[36malgo-1-2lrow_1  |\u001b[0m WARNING:tensorflow:From /opt/ml/code/resnet_model.py:275: dense (from tensorflow.python.layers.core) is deprecated and will be removed in a future version.\n",
      "\u001b[36malgo-1-2lrow_1  |\u001b[0m Instructions for updating:\n",
      "\u001b[36malgo-1-2lrow_1  |\u001b[0m Use keras.layers.Dense instead.\n",
      "\u001b[36malgo-1-2lrow_1  |\u001b[0m WARNING:tensorflow:From /opt/ml/code/resnet_model.py:275: dense (from tensorflow.python.layers.core) is deprecated and will be removed in a future version.\n",
      "\u001b[36malgo-1-2lrow_1  |\u001b[0m Instructions for updating:\n",
      "\u001b[36malgo-1-2lrow_1  |\u001b[0m Use keras.layers.Dense instead.\n",
      "\u001b[36malgo-1-2lrow_1  |\u001b[0m WARNING:tensorflow:From cifar10.py:76: The name tf.losses.softmax_cross_entropy is deprecated. Please use tf.compat.v1.losses.softmax_cross_entropy instead.\n",
      "\u001b[36malgo-1-2lrow_1  |\u001b[0m \n",
      "\u001b[36malgo-1-2lrow_1  |\u001b[0m WARNING:tensorflow:From cifar10.py:76: The name tf.losses.softmax_cross_entropy is deprecated. Please use tf.compat.v1.losses.softmax_cross_entropy instead.\n",
      "\u001b[36malgo-1-2lrow_1  |\u001b[0m \n",
      "\u001b[36malgo-1-2lrow_1  |\u001b[0m WARNING:tensorflow:From /usr/local/lib/python3.7/site-packages/tensorflow_core/python/ops/losses/losses_impl.py:121: where (from tensorflow.python.ops.array_ops) is deprecated and will be removed in a future version.\n",
      "\u001b[36malgo-1-2lrow_1  |\u001b[0m Instructions for updating:\n",
      "\u001b[36malgo-1-2lrow_1  |\u001b[0m Use tf.where in 2.0, which has the same broadcast rule as np.where\n",
      "\u001b[36malgo-1-2lrow_1  |\u001b[0m WARNING:tensorflow:From /usr/local/lib/python3.7/site-packages/tensorflow_core/python/ops/losses/losses_impl.py:121: where (from tensorflow.python.ops.array_ops) is deprecated and will be removed in a future version.\n",
      "\u001b[36malgo-1-2lrow_1  |\u001b[0m Instructions for updating:\n",
      "\u001b[36malgo-1-2lrow_1  |\u001b[0m Use tf.where in 2.0, which has the same broadcast rule as np.where\n",
      "\u001b[36malgo-1-2lrow_1  |\u001b[0m WARNING:tensorflow:From cifar10.py:81: The name tf.summary.scalar is deprecated. Please use tf.compat.v1.summary.scalar instead.\n",
      "\u001b[36malgo-1-2lrow_1  |\u001b[0m \n",
      "\u001b[36malgo-1-2lrow_1  |\u001b[0m WARNING:tensorflow:From cifar10.py:81: The name tf.summary.scalar is deprecated. Please use tf.compat.v1.summary.scalar instead.\n",
      "\u001b[36malgo-1-2lrow_1  |\u001b[0m \n",
      "\u001b[36malgo-1-2lrow_1  |\u001b[0m WARNING:tensorflow:From cifar10.py:85: The name tf.trainable_variables is deprecated. Please use tf.compat.v1.trainable_variables instead.\n",
      "\u001b[36malgo-1-2lrow_1  |\u001b[0m \n",
      "\u001b[36malgo-1-2lrow_1  |\u001b[0m WARNING:tensorflow:From cifar10.py:85: The name tf.trainable_variables is deprecated. Please use tf.compat.v1.trainable_variables instead.\n",
      "\u001b[36malgo-1-2lrow_1  |\u001b[0m \n",
      "\u001b[36malgo-1-2lrow_1  |\u001b[0m WARNING:tensorflow:From cifar10.py:88: The name tf.train.get_or_create_global_step is deprecated. Please use tf.compat.v1.train.get_or_create_global_step instead.\n",
      "\u001b[36malgo-1-2lrow_1  |\u001b[0m \n",
      "\u001b[36malgo-1-2lrow_1  |\u001b[0m WARNING:tensorflow:From cifar10.py:88: The name tf.train.get_or_create_global_step is deprecated. Please use tf.compat.v1.train.get_or_create_global_step instead.\n",
      "\u001b[36malgo-1-2lrow_1  |\u001b[0m \n",
      "\u001b[36malgo-1-2lrow_1  |\u001b[0m WARNING:tensorflow:From cifar10.py:93: The name tf.train.piecewise_constant is deprecated. Please use tf.compat.v1.train.piecewise_constant instead.\n",
      "\u001b[36malgo-1-2lrow_1  |\u001b[0m \n",
      "\u001b[36malgo-1-2lrow_1  |\u001b[0m WARNING:tensorflow:From cifar10.py:93: The name tf.train.piecewise_constant is deprecated. Please use tf.compat.v1.train.piecewise_constant instead.\n",
      "\u001b[36malgo-1-2lrow_1  |\u001b[0m \n",
      "\u001b[36malgo-1-2lrow_1  |\u001b[0m WARNING:tensorflow:From cifar10.py:100: The name tf.train.MomentumOptimizer is deprecated. Please use tf.compat.v1.train.MomentumOptimizer instead.\n",
      "\u001b[36malgo-1-2lrow_1  |\u001b[0m \n",
      "\u001b[36malgo-1-2lrow_1  |\u001b[0m WARNING:tensorflow:From cifar10.py:100: The name tf.train.MomentumOptimizer is deprecated. Please use tf.compat.v1.train.MomentumOptimizer instead.\n",
      "\u001b[36malgo-1-2lrow_1  |\u001b[0m \n",
      "\u001b[36malgo-1-2lrow_1  |\u001b[0m WARNING:tensorflow:From cifar10.py:105: The name tf.get_collection is deprecated. Please use tf.compat.v1.get_collection instead.\n",
      "\u001b[36malgo-1-2lrow_1  |\u001b[0m \n",
      "\u001b[36malgo-1-2lrow_1  |\u001b[0m WARNING:tensorflow:From cifar10.py:105: The name tf.get_collection is deprecated. Please use tf.compat.v1.get_collection instead.\n",
      "\u001b[36malgo-1-2lrow_1  |\u001b[0m \n",
      "\u001b[36malgo-1-2lrow_1  |\u001b[0m WARNING:tensorflow:From cifar10.py:105: The name tf.GraphKeys is deprecated. Please use tf.compat.v1.GraphKeys instead.\n",
      "\u001b[36malgo-1-2lrow_1  |\u001b[0m \n",
      "\u001b[36malgo-1-2lrow_1  |\u001b[0m WARNING:tensorflow:From cifar10.py:105: The name tf.GraphKeys is deprecated. Please use tf.compat.v1.GraphKeys instead.\n",
      "\u001b[36malgo-1-2lrow_1  |\u001b[0m \n",
      "\u001b[36malgo-1-2lrow_1  |\u001b[0m INFO:tensorflow:Done calling model_fn.\n",
      "\u001b[36malgo-1-2lrow_1  |\u001b[0m INFO:tensorflow:Done calling model_fn.\n",
      "\u001b[36malgo-1-2lrow_1  |\u001b[0m INFO:tensorflow:Create CheckpointSaverHook.\n",
      "\u001b[36malgo-1-2lrow_1  |\u001b[0m INFO:tensorflow:Create CheckpointSaverHook.\n",
      "\u001b[36malgo-1-2lrow_1  |\u001b[0m INFO:tensorflow:Graph was finalized.\n",
      "\u001b[36malgo-1-2lrow_1  |\u001b[0m INFO:tensorflow:Graph was finalized.\n",
      "\u001b[36malgo-1-2lrow_1  |\u001b[0m 2020-07-29 20:43:31.478437: I tensorflow/core/platform/cpu_feature_guard.cc:142] Your CPU supports instructions that this TensorFlow binary was not compiled to use: AVX2 AVX512F FMA\n",
      "\u001b[36malgo-1-2lrow_1  |\u001b[0m 2020-07-29 20:43:31.499948: I tensorflow/core/platform/profile_utils/cpu_utils.cc:94] CPU Frequency: 2999995000 Hz\n",
      "\u001b[36malgo-1-2lrow_1  |\u001b[0m 2020-07-29 20:43:31.500614: I tensorflow/compiler/xla/service/service.cc:168] XLA service 0x55a934b0c7d0 initialized for platform Host (this does not guarantee that XLA will be used). Devices:\n",
      "\u001b[36malgo-1-2lrow_1  |\u001b[0m 2020-07-29 20:43:31.500639: I tensorflow/compiler/xla/service/service.cc:176]   StreamExecutor device (0): Host, Default Version\n",
      "\u001b[36malgo-1-2lrow_1  |\u001b[0m 2020-07-29 20:43:31.501856: W tensorflow/stream_executor/platform/default/dso_loader.cc:55] Could not load dynamic library 'libcuda.so.1'; dlerror: libcuda.so.1: cannot open shared object file: No such file or directory; LD_LIBRARY_PATH: /usr/local/cuda/lib64/:/usr/local/openmpi/lib:/usr/local/nvidia/lib:/usr/local/nvidia/lib64\n",
      "\u001b[36malgo-1-2lrow_1  |\u001b[0m 2020-07-29 20:43:31.501878: E tensorflow/stream_executor/cuda/cuda_driver.cc:318] failed call to cuInit: UNKNOWN ERROR (303)\n",
      "\u001b[36malgo-1-2lrow_1  |\u001b[0m 2020-07-29 20:43:31.501896: I tensorflow/stream_executor/cuda/cuda_diagnostics.cc:156] kernel driver does not appear to be running on this host (9c5c8d048a49): /proc/driver/nvidia/version does not exist\n",
      "\u001b[36malgo-1-2lrow_1  |\u001b[0m INFO:tensorflow:Running local_init_op.\n",
      "\u001b[36malgo-1-2lrow_1  |\u001b[0m INFO:tensorflow:Running local_init_op.\n",
      "\u001b[36malgo-1-2lrow_1  |\u001b[0m INFO:tensorflow:Done running local_init_op.\n",
      "\u001b[36malgo-1-2lrow_1  |\u001b[0m INFO:tensorflow:Done running local_init_op.\n",
      "\u001b[36malgo-1-2lrow_1  |\u001b[0m INFO:tensorflow:Saving checkpoints for 0 into /opt/ml/model/model.ckpt.\n",
      "\u001b[36malgo-1-2lrow_1  |\u001b[0m INFO:tensorflow:Saving checkpoints for 0 into /opt/ml/model/model.ckpt.\n",
      "\u001b[36malgo-1-2lrow_1  |\u001b[0m 2020-07-29 20:43:35.435599: E tensorflow/core/common_runtime/executor.cc:642] Executor failed to create kernel. Invalid argument: Default AvgPoolingOp only supports NHWC on device type CPU\n",
      "\u001b[36malgo-1-2lrow_1  |\u001b[0m \t [[{{node average_pooling2d/AvgPool}}]]\n",
      "\u001b[36malgo-1-2lrow_1  |\u001b[0m Traceback (most recent call last):\n",
      "\u001b[36malgo-1-2lrow_1  |\u001b[0m   File \"/usr/local/lib/python3.7/site-packages/tensorflow_core/python/client/session.py\", line 1365, in _do_call\n",
      "\u001b[36malgo-1-2lrow_1  |\u001b[0m     return fn(*args)\n",
      "\u001b[36malgo-1-2lrow_1  |\u001b[0m   File \"/usr/local/lib/python3.7/site-packages/tensorflow_core/python/client/session.py\", line 1350, in _run_fn\n",
      "\u001b[36malgo-1-2lrow_1  |\u001b[0m     target_list, run_metadata)\n",
      "\u001b[36malgo-1-2lrow_1  |\u001b[0m   File \"/usr/local/lib/python3.7/site-packages/tensorflow_core/python/client/session.py\", line 1443, in _call_tf_sessionrun\n",
      "\u001b[36malgo-1-2lrow_1  |\u001b[0m     run_metadata)\n",
      "\u001b[36malgo-1-2lrow_1  |\u001b[0m tensorflow.python.framework.errors_impl.InvalidArgumentError: Default AvgPoolingOp only supports NHWC on device type CPU\n",
      "\u001b[36malgo-1-2lrow_1  |\u001b[0m \t [[{{node average_pooling2d/AvgPool}}]]\n",
      "\u001b[36malgo-1-2lrow_1  |\u001b[0m \n",
      "\u001b[36malgo-1-2lrow_1  |\u001b[0m During handling of the above exception, another exception occurred:\n",
      "\u001b[36malgo-1-2lrow_1  |\u001b[0m \n",
      "\u001b[36malgo-1-2lrow_1  |\u001b[0m Traceback (most recent call last):\n",
      "\u001b[36malgo-1-2lrow_1  |\u001b[0m   File \"cifar10.py\", line 229, in <module>\n",
      "\u001b[36malgo-1-2lrow_1  |\u001b[0m     main(**vars(args))\n",
      "\u001b[36malgo-1-2lrow_1  |\u001b[0m   File \"cifar10.py\", line 192, in main\n",
      "\u001b[36malgo-1-2lrow_1  |\u001b[0m     train(model_dir, data_dir, train_steps)\n",
      "\u001b[36malgo-1-2lrow_1  |\u001b[0m   File \"cifar10.py\", line 187, in train\n",
      "\u001b[36malgo-1-2lrow_1  |\u001b[0m     tf.estimator.train_and_evaluate(estimator=estimator, train_spec=train_spec, eval_spec=eval_spec)\n",
      "\u001b[36malgo-1-2lrow_1  |\u001b[0m   File \"/usr/local/lib/python3.7/site-packages/tensorflow_estimator/python/estimator/training.py\", line 473, in train_and_evaluate\n",
      "\u001b[36malgo-1-2lrow_1  |\u001b[0m     return executor.run()\n",
      "\u001b[36malgo-1-2lrow_1  |\u001b[0m   File \"/usr/local/lib/python3.7/site-packages/tensorflow_estimator/python/estimator/training.py\", line 613, in run\n",
      "\u001b[36malgo-1-2lrow_1  |\u001b[0m     return self.run_local()\n",
      "\u001b[36malgo-1-2lrow_1  |\u001b[0m   File \"/usr/local/lib/python3.7/site-packages/tensorflow_estimator/python/estimator/training.py\", line 714, in run_local\n",
      "\u001b[36malgo-1-2lrow_1  |\u001b[0m     saving_listeners=saving_listeners)\n",
      "\u001b[36malgo-1-2lrow_1  |\u001b[0m   File \"/usr/local/lib/python3.7/site-packages/tensorflow_core/python/util/smdebug.py\", line 57, in run\n",
      "\u001b[36malgo-1-2lrow_1  |\u001b[0m     return_value = function(*args, **kwargs)\n",
      "\u001b[36malgo-1-2lrow_1  |\u001b[0m   File \"/usr/local/lib/python3.7/site-packages/tensorflow_estimator/python/estimator/estimator.py\", line 370, in train\n",
      "\u001b[36malgo-1-2lrow_1  |\u001b[0m     loss = self._train_model(input_fn, hooks, saving_listeners)\n",
      "\u001b[36malgo-1-2lrow_1  |\u001b[0m   File \"/usr/local/lib/python3.7/site-packages/tensorflow_estimator/python/estimator/estimator.py\", line 1161, in _train_model\n",
      "\u001b[36malgo-1-2lrow_1  |\u001b[0m     return self._train_model_default(input_fn, hooks, saving_listeners)\n",
      "\u001b[36malgo-1-2lrow_1  |\u001b[0m   File \"/usr/local/lib/python3.7/site-packages/tensorflow_estimator/python/estimator/estimator.py\", line 1195, in _train_model_default\n",
      "\u001b[36malgo-1-2lrow_1  |\u001b[0m     saving_listeners)\n",
      "\u001b[36malgo-1-2lrow_1  |\u001b[0m   File \"/usr/local/lib/python3.7/site-packages/tensorflow_estimator/python/estimator/estimator.py\", line 1494, in _train_with_estimator_spec\n",
      "\u001b[36malgo-1-2lrow_1  |\u001b[0m     _, loss = mon_sess.run([estimator_spec.train_op, estimator_spec.loss])\n",
      "\u001b[36malgo-1-2lrow_1  |\u001b[0m   File \"/usr/local/lib/python3.7/site-packages/tensorflow_core/python/training/monitored_session.py\", line 760, in run\n",
      "\u001b[36malgo-1-2lrow_1  |\u001b[0m     run_metadata=run_metadata)\n",
      "\u001b[36malgo-1-2lrow_1  |\u001b[0m   File \"/usr/local/lib/python3.7/site-packages/tensorflow_core/python/training/monitored_session.py\", line 1265, in run\n",
      "\u001b[36malgo-1-2lrow_1  |\u001b[0m     run_metadata=run_metadata)\n",
      "\u001b[36malgo-1-2lrow_1  |\u001b[0m   File \"/usr/local/lib/python3.7/site-packages/tensorflow_core/python/training/monitored_session.py\", line 1366, in run\n",
      "\u001b[36malgo-1-2lrow_1  |\u001b[0m     raise six.reraise(*original_exc_info)\n",
      "\u001b[36malgo-1-2lrow_1  |\u001b[0m   File \"/usr/local/lib/python3.7/site-packages/six.py\", line 703, in reraise\n",
      "\u001b[36malgo-1-2lrow_1  |\u001b[0m     raise value\n",
      "\u001b[36malgo-1-2lrow_1  |\u001b[0m   File \"/usr/local/lib/python3.7/site-packages/tensorflow_core/python/training/monitored_session.py\", line 1351, in run\n",
      "\u001b[36malgo-1-2lrow_1  |\u001b[0m     return self._sess.run(*args, **kwargs)\n",
      "\u001b[36malgo-1-2lrow_1  |\u001b[0m   File \"/usr/local/lib/python3.7/site-packages/tensorflow_core/python/training/monitored_session.py\", line 1424, in run\n",
      "\u001b[36malgo-1-2lrow_1  |\u001b[0m     run_metadata=run_metadata)\n",
      "\u001b[36malgo-1-2lrow_1  |\u001b[0m   File \"/usr/local/lib/python3.7/site-packages/tensorflow_core/python/training/monitored_session.py\", line 1182, in run\n",
      "\u001b[36malgo-1-2lrow_1  |\u001b[0m     return self._sess.run(*args, **kwargs)\n",
      "\u001b[36malgo-1-2lrow_1  |\u001b[0m   File \"/usr/local/lib/python3.7/site-packages/tensorflow_core/python/client/session.py\", line 956, in run\n",
      "\u001b[36malgo-1-2lrow_1  |\u001b[0m     run_metadata_ptr)\n",
      "\u001b[36malgo-1-2lrow_1  |\u001b[0m   File \"/usr/local/lib/python3.7/site-packages/tensorflow_core/python/client/session.py\", line 1180, in _run\n",
      "\u001b[36malgo-1-2lrow_1  |\u001b[0m     feed_dict_tensor, options, run_metadata)\n",
      "\u001b[36malgo-1-2lrow_1  |\u001b[0m   File \"/usr/local/lib/python3.7/site-packages/tensorflow_core/python/client/session.py\", line 1359, in _do_run\n",
      "\u001b[36malgo-1-2lrow_1  |\u001b[0m     run_metadata)\n",
      "\u001b[36malgo-1-2lrow_1  |\u001b[0m   File \"/usr/local/lib/python3.7/site-packages/tensorflow_core/python/client/session.py\", line 1384, in _do_call\n",
      "\u001b[36malgo-1-2lrow_1  |\u001b[0m     raise type(e)(node_def, op, message)\n",
      "\u001b[36malgo-1-2lrow_1  |\u001b[0m tensorflow.python.framework.errors_impl.InvalidArgumentError: Default AvgPoolingOp only supports NHWC on device type CPU\n",
      "\u001b[36malgo-1-2lrow_1  |\u001b[0m \t [[node average_pooling2d/AvgPool (defined at /usr/local/lib/python3.7/site-packages/tensorflow_core/python/framework/ops.py:1748) ]]\n",
      "\u001b[36malgo-1-2lrow_1  |\u001b[0m \n",
      "\u001b[36malgo-1-2lrow_1  |\u001b[0m Original stack trace for 'average_pooling2d/AvgPool':\n",
      "\u001b[36malgo-1-2lrow_1  |\u001b[0m   File \"cifar10.py\", line 229, in <module>\n",
      "\u001b[36malgo-1-2lrow_1  |\u001b[0m     main(**vars(args))\n",
      "\u001b[36malgo-1-2lrow_1  |\u001b[0m   File \"cifar10.py\", line 192, in main\n",
      "\u001b[36malgo-1-2lrow_1  |\u001b[0m     train(model_dir, data_dir, train_steps)\n",
      "\u001b[36malgo-1-2lrow_1  |\u001b[0m   File \"cifar10.py\", line 187, in train\n",
      "\u001b[36malgo-1-2lrow_1  |\u001b[0m     tf.estimator.train_and_evaluate(estimator=estimator, train_spec=train_spec, eval_spec=eval_spec)\n",
      "\u001b[36malgo-1-2lrow_1  |\u001b[0m   File \"/usr/local/lib/python3.7/site-packages/tensorflow_estimator/python/estimator/training.py\", line 473, in train_and_evaluate\n",
      "\u001b[36malgo-1-2lrow_1  |\u001b[0m     return executor.run()\n",
      "\u001b[36malgo-1-2lrow_1  |\u001b[0m   File \"/usr/local/lib/python3.7/site-packages/tensorflow_estimator/python/estimator/training.py\", line 613, in run\n",
      "\u001b[36malgo-1-2lrow_1  |\u001b[0m     return self.run_local()\n",
      "\u001b[36malgo-1-2lrow_1  |\u001b[0m   File \"/usr/local/lib/python3.7/site-packages/tensorflow_estimator/python/estimator/training.py\", line 714, in run_local\n",
      "\u001b[36malgo-1-2lrow_1  |\u001b[0m     saving_listeners=saving_listeners)\n",
      "\u001b[36malgo-1-2lrow_1  |\u001b[0m   File \"/usr/local/lib/python3.7/site-packages/tensorflow_core/python/util/smdebug.py\", line 57, in run\n",
      "\u001b[36malgo-1-2lrow_1  |\u001b[0m     return_value = function(*args, **kwargs)\n",
      "\u001b[36malgo-1-2lrow_1  |\u001b[0m   File \"/usr/local/lib/python3.7/site-packages/tensorflow_estimator/python/estimator/estimator.py\", line 370, in train\n",
      "\u001b[36malgo-1-2lrow_1  |\u001b[0m     loss = self._train_model(input_fn, hooks, saving_listeners)\n",
      "\u001b[36malgo-1-2lrow_1  |\u001b[0m   File \"/usr/local/lib/python3.7/site-packages/tensorflow_estimator/python/estimator/estimator.py\", line 1161, in _train_model\n",
      "\u001b[36malgo-1-2lrow_1  |\u001b[0m     return self._train_model_default(input_fn, hooks, saving_listeners)\n",
      "\u001b[36malgo-1-2lrow_1  |\u001b[0m   File \"/usr/local/lib/python3.7/site-packages/tensorflow_estimator/python/estimator/estimator.py\", line 1191, in _train_model_default\n",
      "\u001b[36malgo-1-2lrow_1  |\u001b[0m     features, labels, ModeKeys.TRAIN, self.config)\n",
      "\u001b[36malgo-1-2lrow_1  |\u001b[0m   File \"/usr/local/lib/python3.7/site-packages/tensorflow_estimator/python/estimator/estimator.py\", line 1149, in _call_model_fn\n",
      "\u001b[36malgo-1-2lrow_1  |\u001b[0m     model_fn_results = self._model_fn(features=features, **kwargs)\n",
      "\u001b[36malgo-1-2lrow_1  |\u001b[0m   File \"cifar10.py\", line 62, in model_fn\n",
      "\u001b[36malgo-1-2lrow_1  |\u001b[0m     logits = network(inputs, mode == tf.estimator.ModeKeys.TRAIN)\n",
      "\u001b[36malgo-1-2lrow_1  |\u001b[0m   File \"/opt/ml/code/resnet_model.py\", line 272, in model\n",
      "\u001b[36malgo-1-2lrow_1  |\u001b[0m     data_format=data_format)\n",
      "\u001b[36malgo-1-2lrow_1  |\u001b[0m   File \"/usr/local/lib/python3.7/site-packages/tensorflow_core/python/util/deprecation.py\", line 324, in new_func\n",
      "\u001b[36malgo-1-2lrow_1  |\u001b[0m     return func(*args, **kwargs)\n",
      "\u001b[36malgo-1-2lrow_1  |\u001b[0m   File \"/usr/local/lib/python3.7/site-packages/tensorflow_core/python/layers/pooling.py\", line 238, in average_pooling2d\n",
      "\u001b[36malgo-1-2lrow_1  |\u001b[0m     return layer.apply(inputs)\n",
      "\u001b[36malgo-1-2lrow_1  |\u001b[0m   File \"/usr/local/lib/python3.7/site-packages/tensorflow_core/python/util/deprecation.py\", line 324, in new_func\n",
      "\u001b[36malgo-1-2lrow_1  |\u001b[0m     return func(*args, **kwargs)\n",
      "\u001b[36malgo-1-2lrow_1  |\u001b[0m   File \"/usr/local/lib/python3.7/site-packages/tensorflow_core/python/keras/engine/base_layer.py\", line 1700, in apply\n",
      "\u001b[36malgo-1-2lrow_1  |\u001b[0m     return self.__call__(inputs, *args, **kwargs)\n",
      "\u001b[36malgo-1-2lrow_1  |\u001b[0m   File \"/usr/local/lib/python3.7/site-packages/tensorflow_core/python/layers/base.py\", line 548, in __call__\n",
      "\u001b[36malgo-1-2lrow_1  |\u001b[0m     outputs = super(Layer, self).__call__(inputs, *args, **kwargs)\n",
      "\u001b[36malgo-1-2lrow_1  |\u001b[0m   File \"/usr/local/lib/python3.7/site-packages/tensorflow_core/python/keras/engine/base_layer.py\", line 854, in __call__\n",
      "\u001b[36malgo-1-2lrow_1  |\u001b[0m     outputs = call_fn(cast_inputs, *args, **kwargs)\n",
      "\u001b[36malgo-1-2lrow_1  |\u001b[0m   File \"/usr/local/lib/python3.7/site-packages/tensorflow_core/python/autograph/impl/api.py\", line 234, in wrapper\n",
      "\u001b[36malgo-1-2lrow_1  |\u001b[0m     return converted_call(f, options, args, kwargs)\n",
      "\u001b[36malgo-1-2lrow_1  |\u001b[0m   File \"/usr/local/lib/python3.7/site-packages/tensorflow_core/python/autograph/impl/api.py\", line 439, in converted_call\n",
      "\u001b[36malgo-1-2lrow_1  |\u001b[0m     return _call_unconverted(f, args, kwargs, options)\n",
      "\u001b[36malgo-1-2lrow_1  |\u001b[0m   File \"/usr/local/lib/python3.7/site-packages/tensorflow_core/python/autograph/impl/api.py\", line 330, in _call_unconverted\n",
      "\u001b[36malgo-1-2lrow_1  |\u001b[0m     return f(*args, **kwargs)\n",
      "\u001b[36malgo-1-2lrow_1  |\u001b[0m   File \"/usr/local/lib/python3.7/site-packages/tensorflow_core/python/keras/layers/pooling.py\", line 248, in call\n",
      "\u001b[36malgo-1-2lrow_1  |\u001b[0m     data_format=conv_utils.convert_data_format(self.data_format, 4))\n",
      "\u001b[36malgo-1-2lrow_1  |\u001b[0m   File \"/usr/local/lib/python3.7/site-packages/tensorflow_core/python/ops/nn_ops.py\", line 3583, in avg_pool\n",
      "\u001b[36malgo-1-2lrow_1  |\u001b[0m     name=name)\n",
      "\u001b[36malgo-1-2lrow_1  |\u001b[0m   File \"/usr/local/lib/python3.7/site-packages/tensorflow_core/python/ops/gen_nn_ops.py\", line 95, in avg_pool\n",
      "\u001b[36malgo-1-2lrow_1  |\u001b[0m     data_format=data_format, name=name)\n",
      "\u001b[36malgo-1-2lrow_1  |\u001b[0m   File \"/usr/local/lib/python3.7/site-packages/tensorflow_core/python/framework/op_def_library.py\", line 794, in _apply_op_helper\n",
      "\u001b[36malgo-1-2lrow_1  |\u001b[0m     op_def=op_def)\n",
      "\u001b[36malgo-1-2lrow_1  |\u001b[0m   File \"/usr/local/lib/python3.7/site-packages/tensorflow_core/python/util/deprecation.py\", line 507, in new_func\n",
      "\u001b[36malgo-1-2lrow_1  |\u001b[0m     return func(*args, **kwargs)\n",
      "\u001b[36malgo-1-2lrow_1  |\u001b[0m   File \"/usr/local/lib/python3.7/site-packages/tensorflow_core/python/framework/ops.py\", line 3357, in create_op\n",
      "\u001b[36malgo-1-2lrow_1  |\u001b[0m     attrs, op_def, compute_device)\n",
      "\u001b[36malgo-1-2lrow_1  |\u001b[0m   File \"/usr/local/lib/python3.7/site-packages/tensorflow_core/python/framework/ops.py\", line 3426, in _create_op_internal\n",
      "\u001b[36malgo-1-2lrow_1  |\u001b[0m     op_def=op_def)\n",
      "\u001b[36malgo-1-2lrow_1  |\u001b[0m   File \"/usr/local/lib/python3.7/site-packages/tensorflow_core/python/framework/ops.py\", line 1748, in __init__\n",
      "\u001b[36malgo-1-2lrow_1  |\u001b[0m     self._traceback = tf_stack.extract_stack()\n",
      "\u001b[36malgo-1-2lrow_1  |\u001b[0m \n",
      "\u001b[36malgo-1-2lrow_1  |\u001b[0m Exception during training: Command '['/usr/local/bin/python', 'cifar10.py', '--model-dir', '/opt/ml/model', '--train-steps', '100']' returned non-zero exit status 1.\n",
      "\u001b[36malgo-1-2lrow_1  |\u001b[0m Traceback (most recent call last):\n",
      "\u001b[36malgo-1-2lrow_1  |\u001b[0m   File \"/opt/ml/code/train\", line 95, in <module>\n",
      "\u001b[36malgo-1-2lrow_1  |\u001b[0m     _run(train_cmd)\n",
      "\u001b[36malgo-1-2lrow_1  |\u001b[0m   File \"/opt/ml/code/train\", line 56, in _run\n",
      "\u001b[36malgo-1-2lrow_1  |\u001b[0m     raise subprocess.CalledProcessError(p.returncode, p.args)\n",
      "\u001b[36malgo-1-2lrow_1  |\u001b[0m subprocess.CalledProcessError: Command '['/usr/local/bin/python', 'cifar10.py', '--model-dir', '/opt/ml/model', '--train-steps', '100']' returned non-zero exit status 1.\n",
      "\u001b[36malgo-1-2lrow_1  |\u001b[0m \n",
      "\u001b[36mtmpi6e_faut_algo-1-2lrow_1 exited with code 255\n",
      "\u001b[0mAborting on container exit...\n"
     ]
    },
    {
     "ename": "RuntimeError",
     "evalue": "Failed to run: ['docker-compose', '-f', '/tmp/tmpi6e_faut/docker-compose.yaml', 'up', '--build', '--abort-on-container-exit'], Process exited with code: 255",
     "output_type": "error",
     "traceback": [
      "\u001b[0;31m---------------------------------------------------------------------------\u001b[0m",
      "\u001b[0;31mRuntimeError\u001b[0m                              Traceback (most recent call last)",
      "\u001b[0;32m~/anaconda3/envs/tensorflow_p36/lib/python3.6/site-packages/sagemaker/local/image.py\u001b[0m in \u001b[0;36mtrain\u001b[0;34m(self, input_data_config, output_data_config, hyperparameters, job_name)\u001b[0m\n\u001b[1;32m    160\u001b[0m         \u001b[0;32mtry\u001b[0m\u001b[0;34m:\u001b[0m\u001b[0;34m\u001b[0m\u001b[0;34m\u001b[0m\u001b[0m\n\u001b[0;32m--> 161\u001b[0;31m             \u001b[0m_stream_output\u001b[0m\u001b[0;34m(\u001b[0m\u001b[0mprocess\u001b[0m\u001b[0;34m)\u001b[0m\u001b[0;34m\u001b[0m\u001b[0;34m\u001b[0m\u001b[0m\n\u001b[0m\u001b[1;32m    162\u001b[0m         \u001b[0;32mexcept\u001b[0m \u001b[0mRuntimeError\u001b[0m \u001b[0;32mas\u001b[0m \u001b[0me\u001b[0m\u001b[0;34m:\u001b[0m\u001b[0;34m\u001b[0m\u001b[0;34m\u001b[0m\u001b[0m\n",
      "\u001b[0;32m~/anaconda3/envs/tensorflow_p36/lib/python3.6/site-packages/sagemaker/local/image.py\u001b[0m in \u001b[0;36m_stream_output\u001b[0;34m(process)\u001b[0m\n\u001b[1;32m    676\u001b[0m     \u001b[0;32mif\u001b[0m \u001b[0mexit_code\u001b[0m \u001b[0;34m!=\u001b[0m \u001b[0;36m0\u001b[0m\u001b[0;34m:\u001b[0m\u001b[0;34m\u001b[0m\u001b[0;34m\u001b[0m\u001b[0m\n\u001b[0;32m--> 677\u001b[0;31m         \u001b[0;32mraise\u001b[0m \u001b[0mRuntimeError\u001b[0m\u001b[0;34m(\u001b[0m\u001b[0;34m\"Process exited with code: %s\"\u001b[0m \u001b[0;34m%\u001b[0m \u001b[0mexit_code\u001b[0m\u001b[0;34m)\u001b[0m\u001b[0;34m\u001b[0m\u001b[0;34m\u001b[0m\u001b[0m\n\u001b[0m\u001b[1;32m    678\u001b[0m \u001b[0;34m\u001b[0m\u001b[0m\n",
      "\u001b[0;31mRuntimeError\u001b[0m: Process exited with code: 255",
      "\nDuring handling of the above exception, another exception occurred:\n",
      "\u001b[0;31mRuntimeError\u001b[0m                              Traceback (most recent call last)",
      "\u001b[0;32m<ipython-input-23-26af5f9b82d5>\u001b[0m in \u001b[0;36m<module>\u001b[0;34m\u001b[0m\n\u001b[1;32m     11\u001b[0m                       hyperparameters=hyperparameters)\n\u001b[1;32m     12\u001b[0m \u001b[0;34m\u001b[0m\u001b[0m\n\u001b[0;32m---> 13\u001b[0;31m \u001b[0mestimator\u001b[0m\u001b[0;34m.\u001b[0m\u001b[0mfit\u001b[0m\u001b[0;34m(\u001b[0m\u001b[0;34m'file:///tmp/cifar-10-data'\u001b[0m\u001b[0;34m)\u001b[0m\u001b[0;34m\u001b[0m\u001b[0;34m\u001b[0m\u001b[0m\n\u001b[0m\u001b[1;32m     14\u001b[0m \u001b[0;34m\u001b[0m\u001b[0m\n\u001b[1;32m     15\u001b[0m \u001b[0;31m#predictor = estimator.deploy(1, instance_type)\u001b[0m\u001b[0;34m\u001b[0m\u001b[0;34m\u001b[0m\u001b[0;34m\u001b[0m\u001b[0m\n",
      "\u001b[0;32m~/anaconda3/envs/tensorflow_p36/lib/python3.6/site-packages/sagemaker/estimator.py\u001b[0m in \u001b[0;36mfit\u001b[0;34m(self, inputs, wait, logs, job_name, experiment_config)\u001b[0m\n\u001b[1;32m    492\u001b[0m         \u001b[0mself\u001b[0m\u001b[0;34m.\u001b[0m\u001b[0m_prepare_for_training\u001b[0m\u001b[0;34m(\u001b[0m\u001b[0mjob_name\u001b[0m\u001b[0;34m=\u001b[0m\u001b[0mjob_name\u001b[0m\u001b[0;34m)\u001b[0m\u001b[0;34m\u001b[0m\u001b[0;34m\u001b[0m\u001b[0m\n\u001b[1;32m    493\u001b[0m \u001b[0;34m\u001b[0m\u001b[0m\n\u001b[0;32m--> 494\u001b[0;31m         \u001b[0mself\u001b[0m\u001b[0;34m.\u001b[0m\u001b[0mlatest_training_job\u001b[0m \u001b[0;34m=\u001b[0m \u001b[0m_TrainingJob\u001b[0m\u001b[0;34m.\u001b[0m\u001b[0mstart_new\u001b[0m\u001b[0;34m(\u001b[0m\u001b[0mself\u001b[0m\u001b[0;34m,\u001b[0m \u001b[0minputs\u001b[0m\u001b[0;34m,\u001b[0m \u001b[0mexperiment_config\u001b[0m\u001b[0;34m)\u001b[0m\u001b[0;34m\u001b[0m\u001b[0;34m\u001b[0m\u001b[0m\n\u001b[0m\u001b[1;32m    495\u001b[0m         \u001b[0mself\u001b[0m\u001b[0;34m.\u001b[0m\u001b[0mjobs\u001b[0m\u001b[0;34m.\u001b[0m\u001b[0mappend\u001b[0m\u001b[0;34m(\u001b[0m\u001b[0mself\u001b[0m\u001b[0;34m.\u001b[0m\u001b[0mlatest_training_job\u001b[0m\u001b[0;34m)\u001b[0m\u001b[0;34m\u001b[0m\u001b[0;34m\u001b[0m\u001b[0m\n\u001b[1;32m    496\u001b[0m         \u001b[0;32mif\u001b[0m \u001b[0mwait\u001b[0m\u001b[0;34m:\u001b[0m\u001b[0;34m\u001b[0m\u001b[0;34m\u001b[0m\u001b[0m\n",
      "\u001b[0;32m~/anaconda3/envs/tensorflow_p36/lib/python3.6/site-packages/sagemaker/estimator.py\u001b[0m in \u001b[0;36mstart_new\u001b[0;34m(cls, estimator, inputs, experiment_config)\u001b[0m\n\u001b[1;32m   1064\u001b[0m             \u001b[0mtrain_args\u001b[0m\u001b[0;34m[\u001b[0m\u001b[0;34m\"enable_sagemaker_metrics\"\u001b[0m\u001b[0;34m]\u001b[0m \u001b[0;34m=\u001b[0m \u001b[0mestimator\u001b[0m\u001b[0;34m.\u001b[0m\u001b[0menable_sagemaker_metrics\u001b[0m\u001b[0;34m\u001b[0m\u001b[0;34m\u001b[0m\u001b[0m\n\u001b[1;32m   1065\u001b[0m \u001b[0;34m\u001b[0m\u001b[0m\n\u001b[0;32m-> 1066\u001b[0;31m         \u001b[0mestimator\u001b[0m\u001b[0;34m.\u001b[0m\u001b[0msagemaker_session\u001b[0m\u001b[0;34m.\u001b[0m\u001b[0mtrain\u001b[0m\u001b[0;34m(\u001b[0m\u001b[0;34m**\u001b[0m\u001b[0mtrain_args\u001b[0m\u001b[0;34m)\u001b[0m\u001b[0;34m\u001b[0m\u001b[0;34m\u001b[0m\u001b[0m\n\u001b[0m\u001b[1;32m   1067\u001b[0m \u001b[0;34m\u001b[0m\u001b[0m\n\u001b[1;32m   1068\u001b[0m         \u001b[0;32mreturn\u001b[0m \u001b[0mcls\u001b[0m\u001b[0;34m(\u001b[0m\u001b[0mestimator\u001b[0m\u001b[0;34m.\u001b[0m\u001b[0msagemaker_session\u001b[0m\u001b[0;34m,\u001b[0m \u001b[0mestimator\u001b[0m\u001b[0;34m.\u001b[0m\u001b[0m_current_job_name\u001b[0m\u001b[0;34m)\u001b[0m\u001b[0;34m\u001b[0m\u001b[0;34m\u001b[0m\u001b[0m\n",
      "\u001b[0;32m~/anaconda3/envs/tensorflow_p36/lib/python3.6/site-packages/sagemaker/session.py\u001b[0m in \u001b[0;36mtrain\u001b[0;34m(self, input_mode, input_config, role, job_name, output_config, resource_config, vpc_config, hyperparameters, stop_condition, tags, metric_definitions, enable_network_isolation, image, algorithm_arn, encrypt_inter_container_traffic, train_use_spot_instances, checkpoint_s3_uri, checkpoint_local_path, experiment_config, debugger_rule_configs, debugger_hook_config, tensorboard_output_config, enable_sagemaker_metrics)\u001b[0m\n\u001b[1;32m    588\u001b[0m         \u001b[0mLOGGER\u001b[0m\u001b[0;34m.\u001b[0m\u001b[0minfo\u001b[0m\u001b[0;34m(\u001b[0m\u001b[0;34m\"Creating training-job with name: %s\"\u001b[0m\u001b[0;34m,\u001b[0m \u001b[0mjob_name\u001b[0m\u001b[0;34m)\u001b[0m\u001b[0;34m\u001b[0m\u001b[0;34m\u001b[0m\u001b[0m\n\u001b[1;32m    589\u001b[0m         \u001b[0mLOGGER\u001b[0m\u001b[0;34m.\u001b[0m\u001b[0mdebug\u001b[0m\u001b[0;34m(\u001b[0m\u001b[0;34m\"train request: %s\"\u001b[0m\u001b[0;34m,\u001b[0m \u001b[0mjson\u001b[0m\u001b[0;34m.\u001b[0m\u001b[0mdumps\u001b[0m\u001b[0;34m(\u001b[0m\u001b[0mtrain_request\u001b[0m\u001b[0;34m,\u001b[0m \u001b[0mindent\u001b[0m\u001b[0;34m=\u001b[0m\u001b[0;36m4\u001b[0m\u001b[0;34m)\u001b[0m\u001b[0;34m)\u001b[0m\u001b[0;34m\u001b[0m\u001b[0;34m\u001b[0m\u001b[0m\n\u001b[0;32m--> 590\u001b[0;31m         \u001b[0mself\u001b[0m\u001b[0;34m.\u001b[0m\u001b[0msagemaker_client\u001b[0m\u001b[0;34m.\u001b[0m\u001b[0mcreate_training_job\u001b[0m\u001b[0;34m(\u001b[0m\u001b[0;34m**\u001b[0m\u001b[0mtrain_request\u001b[0m\u001b[0;34m)\u001b[0m\u001b[0;34m\u001b[0m\u001b[0;34m\u001b[0m\u001b[0m\n\u001b[0m\u001b[1;32m    591\u001b[0m \u001b[0;34m\u001b[0m\u001b[0m\n\u001b[1;32m    592\u001b[0m     def process(\n",
      "\u001b[0;32m~/anaconda3/envs/tensorflow_p36/lib/python3.6/site-packages/sagemaker/local/local_session.py\u001b[0m in \u001b[0;36mcreate_training_job\u001b[0;34m(self, TrainingJobName, AlgorithmSpecification, OutputDataConfig, ResourceConfig, InputDataConfig, **kwargs)\u001b[0m\n\u001b[1;32m    100\u001b[0m         \u001b[0mhyperparameters\u001b[0m \u001b[0;34m=\u001b[0m \u001b[0mkwargs\u001b[0m\u001b[0;34m[\u001b[0m\u001b[0;34m\"HyperParameters\"\u001b[0m\u001b[0;34m]\u001b[0m \u001b[0;32mif\u001b[0m \u001b[0;34m\"HyperParameters\"\u001b[0m \u001b[0;32min\u001b[0m \u001b[0mkwargs\u001b[0m \u001b[0;32melse\u001b[0m \u001b[0;34m{\u001b[0m\u001b[0;34m}\u001b[0m\u001b[0;34m\u001b[0m\u001b[0;34m\u001b[0m\u001b[0m\n\u001b[1;32m    101\u001b[0m         \u001b[0mlogger\u001b[0m\u001b[0;34m.\u001b[0m\u001b[0minfo\u001b[0m\u001b[0;34m(\u001b[0m\u001b[0;34m\"Starting training job\"\u001b[0m\u001b[0;34m)\u001b[0m\u001b[0;34m\u001b[0m\u001b[0;34m\u001b[0m\u001b[0m\n\u001b[0;32m--> 102\u001b[0;31m         \u001b[0mtraining_job\u001b[0m\u001b[0;34m.\u001b[0m\u001b[0mstart\u001b[0m\u001b[0;34m(\u001b[0m\u001b[0mInputDataConfig\u001b[0m\u001b[0;34m,\u001b[0m \u001b[0mOutputDataConfig\u001b[0m\u001b[0;34m,\u001b[0m \u001b[0mhyperparameters\u001b[0m\u001b[0;34m,\u001b[0m \u001b[0mTrainingJobName\u001b[0m\u001b[0;34m)\u001b[0m\u001b[0;34m\u001b[0m\u001b[0;34m\u001b[0m\u001b[0m\n\u001b[0m\u001b[1;32m    103\u001b[0m \u001b[0;34m\u001b[0m\u001b[0m\n\u001b[1;32m    104\u001b[0m         \u001b[0mLocalSagemakerClient\u001b[0m\u001b[0;34m.\u001b[0m\u001b[0m_training_jobs\u001b[0m\u001b[0;34m[\u001b[0m\u001b[0mTrainingJobName\u001b[0m\u001b[0;34m]\u001b[0m \u001b[0;34m=\u001b[0m \u001b[0mtraining_job\u001b[0m\u001b[0;34m\u001b[0m\u001b[0;34m\u001b[0m\u001b[0m\n",
      "\u001b[0;32m~/anaconda3/envs/tensorflow_p36/lib/python3.6/site-packages/sagemaker/local/entities.py\u001b[0m in \u001b[0;36mstart\u001b[0;34m(self, input_data_config, output_data_config, hyperparameters, job_name)\u001b[0m\n\u001b[1;32m     94\u001b[0m \u001b[0;34m\u001b[0m\u001b[0m\n\u001b[1;32m     95\u001b[0m         self.model_artifacts = self.container.train(\n\u001b[0;32m---> 96\u001b[0;31m             \u001b[0minput_data_config\u001b[0m\u001b[0;34m,\u001b[0m \u001b[0moutput_data_config\u001b[0m\u001b[0;34m,\u001b[0m \u001b[0mhyperparameters\u001b[0m\u001b[0;34m,\u001b[0m \u001b[0mjob_name\u001b[0m\u001b[0;34m\u001b[0m\u001b[0;34m\u001b[0m\u001b[0m\n\u001b[0m\u001b[1;32m     97\u001b[0m         )\n\u001b[1;32m     98\u001b[0m         \u001b[0mself\u001b[0m\u001b[0;34m.\u001b[0m\u001b[0mend_time\u001b[0m \u001b[0;34m=\u001b[0m \u001b[0mdatetime\u001b[0m\u001b[0;34m.\u001b[0m\u001b[0mdatetime\u001b[0m\u001b[0;34m.\u001b[0m\u001b[0mnow\u001b[0m\u001b[0;34m(\u001b[0m\u001b[0;34m)\u001b[0m\u001b[0;34m\u001b[0m\u001b[0;34m\u001b[0m\u001b[0m\n",
      "\u001b[0;32m~/anaconda3/envs/tensorflow_p36/lib/python3.6/site-packages/sagemaker/local/image.py\u001b[0m in \u001b[0;36mtrain\u001b[0;34m(self, input_data_config, output_data_config, hyperparameters, job_name)\u001b[0m\n\u001b[1;32m    164\u001b[0m             \u001b[0;31m# which contains the exit code and append the command line to it.\u001b[0m\u001b[0;34m\u001b[0m\u001b[0;34m\u001b[0m\u001b[0;34m\u001b[0m\u001b[0m\n\u001b[1;32m    165\u001b[0m             \u001b[0mmsg\u001b[0m \u001b[0;34m=\u001b[0m \u001b[0;34m\"Failed to run: %s, %s\"\u001b[0m \u001b[0;34m%\u001b[0m \u001b[0;34m(\u001b[0m\u001b[0mcompose_command\u001b[0m\u001b[0;34m,\u001b[0m \u001b[0mstr\u001b[0m\u001b[0;34m(\u001b[0m\u001b[0me\u001b[0m\u001b[0;34m)\u001b[0m\u001b[0;34m)\u001b[0m\u001b[0;34m\u001b[0m\u001b[0;34m\u001b[0m\u001b[0m\n\u001b[0;32m--> 166\u001b[0;31m             \u001b[0;32mraise\u001b[0m \u001b[0mRuntimeError\u001b[0m\u001b[0;34m(\u001b[0m\u001b[0mmsg\u001b[0m\u001b[0;34m)\u001b[0m\u001b[0;34m\u001b[0m\u001b[0;34m\u001b[0m\u001b[0m\n\u001b[0m\u001b[1;32m    167\u001b[0m         \u001b[0;32mfinally\u001b[0m\u001b[0;34m:\u001b[0m\u001b[0;34m\u001b[0m\u001b[0;34m\u001b[0m\u001b[0m\n\u001b[1;32m    168\u001b[0m             \u001b[0martifacts\u001b[0m \u001b[0;34m=\u001b[0m \u001b[0mself\u001b[0m\u001b[0;34m.\u001b[0m\u001b[0mretrieve_artifacts\u001b[0m\u001b[0;34m(\u001b[0m\u001b[0mcompose_data\u001b[0m\u001b[0;34m,\u001b[0m \u001b[0moutput_data_config\u001b[0m\u001b[0;34m,\u001b[0m \u001b[0mjob_name\u001b[0m\u001b[0;34m)\u001b[0m\u001b[0;34m\u001b[0m\u001b[0;34m\u001b[0m\u001b[0m\n",
      "\u001b[0;31mRuntimeError\u001b[0m: Failed to run: ['docker-compose', '-f', '/tmp/tmpi6e_faut/docker-compose.yaml', 'up', '--build', '--abort-on-container-exit'], Process exited with code: 255"
     ]
    }
   ],
   "source": [
    "from sagemaker.estimator import Estimator\n",
    "\n",
    "hyperparameters = {'train-steps': 100}\n",
    "\n",
    "instance_type = 'local'\n",
    "\n",
    "estimator = Estimator(role=role,\n",
    "                      train_instance_count=1,\n",
    "                      train_instance_type=instance_type,\n",
    "                      image_name='sagemaker-tf-cifar10-example:latest',\n",
    "                      hyperparameters=hyperparameters)\n",
    "\n",
    "estimator.fit('file:///tmp/cifar-10-data')\n",
    "\n",
    "#predictor = estimator.deploy(1, instance_type)"
   ]
  },
  {
   "cell_type": "markdown",
   "metadata": {},
   "source": [
    "## Making predictions using Python SDK\n",
    "\n",
    "To make predictions, we use an image that is converted using OpenCV into a json format to send as an inference request. We need to install OpenCV to deserialize the image that is used to make predictions.\n",
    "\n",
    "The JSON reponse will be the probabilities of the image belonging to one of the 10 classes along with the most likely class the picture belongs to. The classes can be referenced from the [CIFAR-10 website](https://www.cs.toronto.edu/~kriz/cifar.html). Since we didn't train the model for that long, we aren't expecting very accurate results."
   ]
  },
  {
   "cell_type": "code",
   "execution_count": 9,
   "metadata": {},
   "outputs": [
    {
     "name": "stdout",
     "output_type": "stream",
     "text": [
      "Requirement already satisfied: opencv-python in /home/ec2-user/anaconda3/envs/tensorflow_p36/lib/python3.6/site-packages (4.2.0.32)\n",
      "Requirement already satisfied: numpy>=1.11.3 in /home/ec2-user/anaconda3/envs/tensorflow_p36/lib/python3.6/site-packages (from opencv-python) (1.18.1)\n",
      "\u001b[33mWARNING: You are using pip version 20.0.2; however, version 20.1.1 is available.\n",
      "You should consider upgrading via the '/home/ec2-user/anaconda3/envs/tensorflow_p36/bin/python -m pip install --upgrade pip' command.\u001b[0m\n"
     ]
    }
   ],
   "source": [
    "! pip install opencv-python"
   ]
  },
  {
   "cell_type": "code",
   "execution_count": 10,
   "metadata": {},
   "outputs": [
    {
     "name": "stdout",
     "output_type": "stream",
     "text": [
      "\u001b[36malgo-1-yi3wz_1  |\u001b[0m 172.18.0.1 - - [28/Jul/2020:15:55:28 +0000] \"POST /invocations HTTP/1.1\" 200 245 \"-\" \"-\"\n"
     ]
    },
    {
     "data": {
      "text/plain": [
       "{'predictions': [{'probabilities': [0.0440948717,\n",
       "    0.113212533,\n",
       "    0.100588933,\n",
       "    0.0749716088,\n",
       "    0.175612435,\n",
       "    0.0692674145,\n",
       "    0.0791519,\n",
       "    0.12647,\n",
       "    0.0671212524,\n",
       "    0.149509013],\n",
       "   'classes': 4}]}"
      ]
     },
     "execution_count": 10,
     "metadata": {},
     "output_type": "execute_result"
    }
   ],
   "source": [
    "import cv2\n",
    "import numpy\n",
    "\n",
    "from sagemaker.predictor import json_serializer, json_deserializer\n",
    "\n",
    "image = cv2.imread(\"data/cat.png\", 1)\n",
    "\n",
    "# resize, as our model is expecting images in 32x32.\n",
    "image = cv2.resize(image, (32, 32))\n",
    "\n",
    "data = {'instances': numpy.asarray(image).astype(float).tolist()}\n",
    "\n",
    "# The request and response format is JSON for TensorFlow Serving.\n",
    "# For more information: https://www.tensorflow.org/serving/api_rest#predict_api\n",
    "predictor.accept = 'application/json'\n",
    "predictor.content_type = 'application/json'\n",
    "\n",
    "predictor.serializer = json_serializer\n",
    "predictor.deserializer = json_deserializer\n",
    "\n",
    "# For more information on the predictor class.\n",
    "# https://github.com/aws/sagemaker-python-sdk/blob/master/src/sagemaker/predictor.py\n",
    "predictor.predict(data)"
   ]
  },
  {
   "cell_type": "code",
   "execution_count": 11,
   "metadata": {},
   "outputs": [
    {
     "name": "stdout",
     "output_type": "stream",
     "text": [
      "Gracefully stopping... (press Ctrl+C again to force)\n"
     ]
    }
   ],
   "source": [
    "predictor.delete_endpoint()"
   ]
  },
  {
   "cell_type": "markdown",
   "metadata": {},
   "source": [
    "# Part 2: Training and Hosting your Algorithm in Amazon SageMaker\n",
    "Once you have your container packaged, you can use it to train and serve models. Let's do that with the algorithm we made above.\n",
    "\n",
    "## Set up the environment\n",
    "Here we specify the bucket to use and the role that is used for working with SageMaker."
   ]
  },
  {
   "cell_type": "code",
   "execution_count": 24,
   "metadata": {},
   "outputs": [],
   "source": [
    "# S3 prefix\n",
    "prefix = 'DEMO-tensorflow-cifar10'"
   ]
  },
  {
   "cell_type": "markdown",
   "metadata": {},
   "source": [
    "## Create the session\n",
    "\n",
    "The session remembers our connection parameters to SageMaker. We use it to perform all of our SageMaker operations."
   ]
  },
  {
   "cell_type": "code",
   "execution_count": 25,
   "metadata": {},
   "outputs": [],
   "source": [
    "import sagemaker as sage\n",
    "\n",
    "sess = sage.Session()"
   ]
  },
  {
   "cell_type": "markdown",
   "metadata": {},
   "source": [
    "## Upload the data for training\n",
    "\n",
    "We will use the tools provided by the SageMaker Python SDK to upload the data to a default bucket."
   ]
  },
  {
   "cell_type": "code",
   "execution_count": 26,
   "metadata": {},
   "outputs": [],
   "source": [
    "WORK_DIRECTORY = '/tmp/cifar-10-data'\n",
    "\n",
    "data_location = sess.upload_data(WORK_DIRECTORY, key_prefix=prefix)"
   ]
  },
  {
   "cell_type": "markdown",
   "metadata": {},
   "source": [
    "## Training on SageMaker\n",
    "Training a model on SageMaker with the Python SDK is done in a way that is similar to the way we trained it locally. This is done by changing our train_instance_type from `local` to one of our [supported EC2 instance types](https://aws.amazon.com/sagemaker/pricing/instance-types/).\n",
    "\n",
    "In addition, we must now specify the ECR image URL, which we just pushed above.\n",
    "\n",
    "Finally, our local training dataset has to be in Amazon S3 and the S3 URL to our dataset is passed into the `fit()` call.\n",
    "\n",
    "Let's first fetch our ECR image url that corresponds to the image we just built and pushed."
   ]
  },
  {
   "cell_type": "code",
   "execution_count": 38,
   "metadata": {},
   "outputs": [
    {
     "name": "stdout",
     "output_type": "stream",
     "text": [
      "079329190341.dkr.ecr.us-east-1.amazonaws.com/sagemaker-tf-cifar10-example-gpu:latest\n"
     ]
    }
   ],
   "source": [
    "import boto3\n",
    "\n",
    "client = boto3.client('sts')\n",
    "account = client.get_caller_identity()['Account']\n",
    "\n",
    "my_session = boto3.session.Session()\n",
    "region = my_session.region_name\n",
    "\n",
    "algorithm_name = 'sagemaker-tf-cifar10-example-gpu'\n",
    "\n",
    "ecr_image = '{}.dkr.ecr.{}.amazonaws.com/{}:latest'.format(account, region, algorithm_name)\n",
    "\n",
    "print(ecr_image)"
   ]
  },
  {
   "cell_type": "code",
   "execution_count": 39,
   "metadata": {},
   "outputs": [
    {
     "name": "stderr",
     "output_type": "stream",
     "text": [
      "WARNING:root:Parameter image_name will be renamed to image_uri in SageMaker Python SDK v2.\n",
      "WARNING:sagemaker:'s3_input' class will be renamed to 'TrainingInput' in SageMaker Python SDK v2.\n"
     ]
    },
    {
     "name": "stdout",
     "output_type": "stream",
     "text": [
      "2020-07-28 19:59:35 Starting - Starting the training job...\n",
      "2020-07-28 19:59:38 Starting - Launching requested ML instances......\n",
      "2020-07-28 20:00:59 Starting - Preparing the instances for training......\n",
      "2020-07-28 20:02:05 Downloading - Downloading input data\n",
      "2020-07-28 20:02:05 Training - Downloading the training image......\n",
      "2020-07-28 20:02:57 Training - Training image download completed. Training in progress....\n",
      "2020-07-28 20:03:34 Uploading - Uploading generated training model\n",
      "2020-07-28 20:03:34 Completed - Training job completed\n",
      "\u001b[34mTraining complete.\u001b[0m\n"
     ]
    },
    {
     "name": "stderr",
     "output_type": "stream",
     "text": [
      "WARNING:sagemaker:Parameter image will be renamed to image_uri in SageMaker Python SDK v2.\n"
     ]
    },
    {
     "name": "stdout",
     "output_type": "stream",
     "text": [
      "Training seconds: 100\n",
      "Billable seconds: 100\n"
     ]
    },
    {
     "ename": "ResourceLimitExceeded",
     "evalue": "An error occurred (ResourceLimitExceeded) when calling the CreateEndpoint operation: The account-level service limit 'Number of instances across active endpoints' is 10 Instances, with current utilization of 10 Instances and a request delta of 1 Instances. Please contact AWS support to request an increase for this limit.",
     "output_type": "error",
     "traceback": [
      "\u001b[0;31m---------------------------------------------------------------------------\u001b[0m",
      "\u001b[0;31mResourceLimitExceeded\u001b[0m                     Traceback (most recent call last)",
      "\u001b[0;32m<ipython-input-39-5883006c6396>\u001b[0m in \u001b[0;36m<module>\u001b[0;34m\u001b[0m\n\u001b[1;32m     13\u001b[0m \u001b[0mestimator\u001b[0m\u001b[0;34m.\u001b[0m\u001b[0mfit\u001b[0m\u001b[0;34m(\u001b[0m\u001b[0mdata_location\u001b[0m\u001b[0;34m)\u001b[0m\u001b[0;34m\u001b[0m\u001b[0;34m\u001b[0m\u001b[0m\n\u001b[1;32m     14\u001b[0m \u001b[0;34m\u001b[0m\u001b[0m\n\u001b[0;32m---> 15\u001b[0;31m \u001b[0mpredictor\u001b[0m \u001b[0;34m=\u001b[0m \u001b[0mestimator\u001b[0m\u001b[0;34m.\u001b[0m\u001b[0mdeploy\u001b[0m\u001b[0;34m(\u001b[0m\u001b[0;36m1\u001b[0m\u001b[0;34m,\u001b[0m \u001b[0minstance_type\u001b[0m\u001b[0;34m)\u001b[0m\u001b[0;34m\u001b[0m\u001b[0;34m\u001b[0m\u001b[0m\n\u001b[0m",
      "\u001b[0;32m~/anaconda3/envs/tensorflow_p36/lib/python3.6/site-packages/sagemaker/estimator.py\u001b[0m in \u001b[0;36mdeploy\u001b[0;34m(self, initial_instance_count, instance_type, accelerator_type, endpoint_name, use_compiled_model, update_endpoint, wait, model_name, kms_key, data_capture_config, tags, **kwargs)\u001b[0m\n\u001b[1;32m    718\u001b[0m             \u001b[0mwait\u001b[0m\u001b[0;34m=\u001b[0m\u001b[0mwait\u001b[0m\u001b[0;34m,\u001b[0m\u001b[0;34m\u001b[0m\u001b[0;34m\u001b[0m\u001b[0m\n\u001b[1;32m    719\u001b[0m             \u001b[0mkms_key\u001b[0m\u001b[0;34m=\u001b[0m\u001b[0mkms_key\u001b[0m\u001b[0;34m,\u001b[0m\u001b[0;34m\u001b[0m\u001b[0;34m\u001b[0m\u001b[0m\n\u001b[0;32m--> 720\u001b[0;31m             \u001b[0mdata_capture_config\u001b[0m\u001b[0;34m=\u001b[0m\u001b[0mdata_capture_config\u001b[0m\u001b[0;34m,\u001b[0m\u001b[0;34m\u001b[0m\u001b[0;34m\u001b[0m\u001b[0m\n\u001b[0m\u001b[1;32m    721\u001b[0m         )\n\u001b[1;32m    722\u001b[0m \u001b[0;34m\u001b[0m\u001b[0m\n",
      "\u001b[0;32m~/anaconda3/envs/tensorflow_p36/lib/python3.6/site-packages/sagemaker/model.py\u001b[0m in \u001b[0;36mdeploy\u001b[0;34m(self, initial_instance_count, instance_type, accelerator_type, endpoint_name, update_endpoint, tags, kms_key, wait, data_capture_config)\u001b[0m\n\u001b[1;32m    515\u001b[0m                 \u001b[0mkms_key\u001b[0m\u001b[0;34m=\u001b[0m\u001b[0mkms_key\u001b[0m\u001b[0;34m,\u001b[0m\u001b[0;34m\u001b[0m\u001b[0;34m\u001b[0m\u001b[0m\n\u001b[1;32m    516\u001b[0m                 \u001b[0mwait\u001b[0m\u001b[0;34m=\u001b[0m\u001b[0mwait\u001b[0m\u001b[0;34m,\u001b[0m\u001b[0;34m\u001b[0m\u001b[0;34m\u001b[0m\u001b[0m\n\u001b[0;32m--> 517\u001b[0;31m                 \u001b[0mdata_capture_config_dict\u001b[0m\u001b[0;34m=\u001b[0m\u001b[0mdata_capture_config_dict\u001b[0m\u001b[0;34m,\u001b[0m\u001b[0;34m\u001b[0m\u001b[0;34m\u001b[0m\u001b[0m\n\u001b[0m\u001b[1;32m    518\u001b[0m             )\n\u001b[1;32m    519\u001b[0m \u001b[0;34m\u001b[0m\u001b[0m\n",
      "\u001b[0;32m~/anaconda3/envs/tensorflow_p36/lib/python3.6/site-packages/sagemaker/session.py\u001b[0m in \u001b[0;36mendpoint_from_production_variants\u001b[0;34m(self, name, production_variants, tags, kms_key, wait, data_capture_config_dict)\u001b[0m\n\u001b[1;32m   2896\u001b[0m \u001b[0;34m\u001b[0m\u001b[0m\n\u001b[1;32m   2897\u001b[0m             \u001b[0mself\u001b[0m\u001b[0;34m.\u001b[0m\u001b[0msagemaker_client\u001b[0m\u001b[0;34m.\u001b[0m\u001b[0mcreate_endpoint_config\u001b[0m\u001b[0;34m(\u001b[0m\u001b[0;34m**\u001b[0m\u001b[0mconfig_options\u001b[0m\u001b[0;34m)\u001b[0m\u001b[0;34m\u001b[0m\u001b[0;34m\u001b[0m\u001b[0m\n\u001b[0;32m-> 2898\u001b[0;31m         \u001b[0;32mreturn\u001b[0m \u001b[0mself\u001b[0m\u001b[0;34m.\u001b[0m\u001b[0mcreate_endpoint\u001b[0m\u001b[0;34m(\u001b[0m\u001b[0mendpoint_name\u001b[0m\u001b[0;34m=\u001b[0m\u001b[0mname\u001b[0m\u001b[0;34m,\u001b[0m \u001b[0mconfig_name\u001b[0m\u001b[0;34m=\u001b[0m\u001b[0mname\u001b[0m\u001b[0;34m,\u001b[0m \u001b[0mtags\u001b[0m\u001b[0;34m=\u001b[0m\u001b[0mtags\u001b[0m\u001b[0;34m,\u001b[0m \u001b[0mwait\u001b[0m\u001b[0;34m=\u001b[0m\u001b[0mwait\u001b[0m\u001b[0;34m)\u001b[0m\u001b[0;34m\u001b[0m\u001b[0;34m\u001b[0m\u001b[0m\n\u001b[0m\u001b[1;32m   2899\u001b[0m \u001b[0;34m\u001b[0m\u001b[0m\n\u001b[1;32m   2900\u001b[0m     \u001b[0;32mdef\u001b[0m \u001b[0mexpand_role\u001b[0m\u001b[0;34m(\u001b[0m\u001b[0mself\u001b[0m\u001b[0;34m,\u001b[0m \u001b[0mrole\u001b[0m\u001b[0;34m)\u001b[0m\u001b[0;34m:\u001b[0m\u001b[0;34m\u001b[0m\u001b[0;34m\u001b[0m\u001b[0m\n",
      "\u001b[0;32m~/anaconda3/envs/tensorflow_p36/lib/python3.6/site-packages/sagemaker/session.py\u001b[0m in \u001b[0;36mcreate_endpoint\u001b[0;34m(self, endpoint_name, config_name, tags, wait)\u001b[0m\n\u001b[1;32m   2413\u001b[0m \u001b[0;34m\u001b[0m\u001b[0m\n\u001b[1;32m   2414\u001b[0m         self.sagemaker_client.create_endpoint(\n\u001b[0;32m-> 2415\u001b[0;31m             \u001b[0mEndpointName\u001b[0m\u001b[0;34m=\u001b[0m\u001b[0mendpoint_name\u001b[0m\u001b[0;34m,\u001b[0m \u001b[0mEndpointConfigName\u001b[0m\u001b[0;34m=\u001b[0m\u001b[0mconfig_name\u001b[0m\u001b[0;34m,\u001b[0m \u001b[0mTags\u001b[0m\u001b[0;34m=\u001b[0m\u001b[0mtags\u001b[0m\u001b[0;34m\u001b[0m\u001b[0;34m\u001b[0m\u001b[0m\n\u001b[0m\u001b[1;32m   2416\u001b[0m         )\n\u001b[1;32m   2417\u001b[0m         \u001b[0;32mif\u001b[0m \u001b[0mwait\u001b[0m\u001b[0;34m:\u001b[0m\u001b[0;34m\u001b[0m\u001b[0;34m\u001b[0m\u001b[0m\n",
      "\u001b[0;32m~/anaconda3/envs/tensorflow_p36/lib/python3.6/site-packages/botocore/client.py\u001b[0m in \u001b[0;36m_api_call\u001b[0;34m(self, *args, **kwargs)\u001b[0m\n\u001b[1;32m    314\u001b[0m                     \"%s() only accepts keyword arguments.\" % py_operation_name)\n\u001b[1;32m    315\u001b[0m             \u001b[0;31m# The \"self\" in this scope is referring to the BaseClient.\u001b[0m\u001b[0;34m\u001b[0m\u001b[0;34m\u001b[0m\u001b[0;34m\u001b[0m\u001b[0m\n\u001b[0;32m--> 316\u001b[0;31m             \u001b[0;32mreturn\u001b[0m \u001b[0mself\u001b[0m\u001b[0;34m.\u001b[0m\u001b[0m_make_api_call\u001b[0m\u001b[0;34m(\u001b[0m\u001b[0moperation_name\u001b[0m\u001b[0;34m,\u001b[0m \u001b[0mkwargs\u001b[0m\u001b[0;34m)\u001b[0m\u001b[0;34m\u001b[0m\u001b[0;34m\u001b[0m\u001b[0m\n\u001b[0m\u001b[1;32m    317\u001b[0m \u001b[0;34m\u001b[0m\u001b[0m\n\u001b[1;32m    318\u001b[0m         \u001b[0m_api_call\u001b[0m\u001b[0;34m.\u001b[0m\u001b[0m__name__\u001b[0m \u001b[0;34m=\u001b[0m \u001b[0mstr\u001b[0m\u001b[0;34m(\u001b[0m\u001b[0mpy_operation_name\u001b[0m\u001b[0;34m)\u001b[0m\u001b[0;34m\u001b[0m\u001b[0;34m\u001b[0m\u001b[0m\n",
      "\u001b[0;32m~/anaconda3/envs/tensorflow_p36/lib/python3.6/site-packages/botocore/client.py\u001b[0m in \u001b[0;36m_make_api_call\u001b[0;34m(self, operation_name, api_params)\u001b[0m\n\u001b[1;32m    633\u001b[0m             \u001b[0merror_code\u001b[0m \u001b[0;34m=\u001b[0m \u001b[0mparsed_response\u001b[0m\u001b[0;34m.\u001b[0m\u001b[0mget\u001b[0m\u001b[0;34m(\u001b[0m\u001b[0;34m\"Error\"\u001b[0m\u001b[0;34m,\u001b[0m \u001b[0;34m{\u001b[0m\u001b[0;34m}\u001b[0m\u001b[0;34m)\u001b[0m\u001b[0;34m.\u001b[0m\u001b[0mget\u001b[0m\u001b[0;34m(\u001b[0m\u001b[0;34m\"Code\"\u001b[0m\u001b[0;34m)\u001b[0m\u001b[0;34m\u001b[0m\u001b[0;34m\u001b[0m\u001b[0m\n\u001b[1;32m    634\u001b[0m             \u001b[0merror_class\u001b[0m \u001b[0;34m=\u001b[0m \u001b[0mself\u001b[0m\u001b[0;34m.\u001b[0m\u001b[0mexceptions\u001b[0m\u001b[0;34m.\u001b[0m\u001b[0mfrom_code\u001b[0m\u001b[0;34m(\u001b[0m\u001b[0merror_code\u001b[0m\u001b[0;34m)\u001b[0m\u001b[0;34m\u001b[0m\u001b[0;34m\u001b[0m\u001b[0m\n\u001b[0;32m--> 635\u001b[0;31m             \u001b[0;32mraise\u001b[0m \u001b[0merror_class\u001b[0m\u001b[0;34m(\u001b[0m\u001b[0mparsed_response\u001b[0m\u001b[0;34m,\u001b[0m \u001b[0moperation_name\u001b[0m\u001b[0;34m)\u001b[0m\u001b[0;34m\u001b[0m\u001b[0;34m\u001b[0m\u001b[0m\n\u001b[0m\u001b[1;32m    636\u001b[0m         \u001b[0;32melse\u001b[0m\u001b[0;34m:\u001b[0m\u001b[0;34m\u001b[0m\u001b[0;34m\u001b[0m\u001b[0m\n\u001b[1;32m    637\u001b[0m             \u001b[0;32mreturn\u001b[0m \u001b[0mparsed_response\u001b[0m\u001b[0;34m\u001b[0m\u001b[0;34m\u001b[0m\u001b[0m\n",
      "\u001b[0;31mResourceLimitExceeded\u001b[0m: An error occurred (ResourceLimitExceeded) when calling the CreateEndpoint operation: The account-level service limit 'Number of instances across active endpoints' is 10 Instances, with current utilization of 10 Instances and a request delta of 1 Instances. Please contact AWS support to request an increase for this limit."
     ]
    }
   ],
   "source": [
    "from sagemaker.estimator import Estimator\n",
    "\n",
    "hyperparameters = {'train-steps': 100}\n",
    "\n",
    "instance_type = 'ml.p3.2xlarge'\n",
    "\n",
    "estimator = Estimator(role=role,\n",
    "                      train_instance_count=1,\n",
    "                      train_instance_type=instance_type,\n",
    "                      image_name=ecr_image,\n",
    "                      hyperparameters=hyperparameters)\n",
    "\n",
    "estimator.fit(data_location)\n",
    "\n",
    "predictor = estimator.deploy(1, instance_type)"
   ]
  },
  {
   "cell_type": "code",
   "execution_count": 29,
   "metadata": {},
   "outputs": [
    {
     "data": {
      "text/plain": [
       "{'predictions': [{'probabilities': [0.0600923635,\n",
       "    0.158856228,\n",
       "    0.0393518694,\n",
       "    0.000214828091,\n",
       "    0.0129998494,\n",
       "    0.00593394414,\n",
       "    0.0329476334,\n",
       "    0.123774149,\n",
       "    0.436071783,\n",
       "    0.129757434],\n",
       "   'classes': 8}]}"
      ]
     },
     "execution_count": 29,
     "metadata": {},
     "output_type": "execute_result"
    }
   ],
   "source": [
    "image = cv2.imread(\"data/cat.png\", 1)\n",
    "\n",
    "# resize, as our model is expecting images in 32x32.\n",
    "image = cv2.resize(image, (32, 32))\n",
    "\n",
    "data = {'instances': numpy.asarray(image).astype(float).tolist()}\n",
    "\n",
    "predictor.accept = 'application/json'\n",
    "predictor.content_type = 'application/json'\n",
    "\n",
    "predictor.serializer = json_serializer\n",
    "predictor.deserializer = json_deserializer\n",
    "\n",
    "predictor.predict(data)"
   ]
  },
  {
   "cell_type": "markdown",
   "metadata": {},
   "source": [
    "## Optional cleanup\n",
    "When you're done with the endpoint, you should clean it up.\n",
    "\n",
    "All of the training jobs, models and endpoints we created can be viewed through the SageMaker console of your AWS account."
   ]
  },
  {
   "cell_type": "code",
   "execution_count": 17,
   "metadata": {},
   "outputs": [],
   "source": [
    "predictor.delete_endpoint()"
   ]
  },
  {
   "cell_type": "markdown",
   "metadata": {},
   "source": [
    "# Reference\n",
    "- [How Amazon SageMaker interacts with your Docker container for training](https://docs.aws.amazon.com/sagemaker/latest/dg/your-algorithms-training-algo.html)\n",
    "- [How Amazon SageMaker interacts with your Docker container for inference](https://docs.aws.amazon.com/sagemaker/latest/dg/your-algorithms-inference-code.html)\n",
    "- [CIFAR-10 Dataset](https://www.cs.toronto.edu/~kriz/cifar.html)\n",
    "- [SageMaker Python SDK](https://github.com/aws/sagemaker-python-sdk)\n",
    "- [Dockerfile](https://docs.docker.com/engine/reference/builder/)\n",
    "- [scikit-bring-your-own](https://github.com/awslabs/amazon-sagemaker-examples/blob/master/advanced_functionality/scikit_bring_your_own/scikit_bring_your_own.ipynb)"
   ]
  }
 ],
 "metadata": {
  "kernelspec": {
   "display_name": "conda_tensorflow_p36",
   "language": "python",
   "name": "conda_tensorflow_p36"
  },
  "language_info": {
   "codemirror_mode": {
    "name": "ipython",
    "version": 3
   },
   "file_extension": ".py",
   "mimetype": "text/x-python",
   "name": "python",
   "nbconvert_exporter": "python",
   "pygments_lexer": "ipython3",
   "version": "3.6.10"
  }
 },
 "nbformat": 4,
 "nbformat_minor": 4
}
